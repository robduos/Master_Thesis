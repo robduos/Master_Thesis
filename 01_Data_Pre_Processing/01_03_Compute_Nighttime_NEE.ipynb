{
 "cells": [
  {
   "cell_type": "markdown",
   "id": "1ca883c3-65e4-4679-9596-acf7549243ff",
   "metadata": {},
   "source": [
    "**Script Description** This script loads a pre-processed dataset, converts the units of NEE variables and computes the nighttime, daytime. \n",
    "\n",
    "**File Name:** 01_03_Compute_Nighttime_NEE.ipynb\n",
    "\n",
    "**Date:** 2025\n",
    "\n",
    "**Created by:** Rob Alamgir"
   ]
  },
  {
   "cell_type": "markdown",
   "id": "91b18099-4f64-4495-a613-a7b0f2cf7dcd",
   "metadata": {},
   "source": [
    "#### Import the relevant packages"
   ]
  },
  {
   "cell_type": "code",
   "execution_count": 1,
   "id": "a31170db-454a-4dd6-93bb-e7bd0dbbd6d1",
   "metadata": {},
   "outputs": [],
   "source": [
    "import os\n",
    "import pandas as pd\n",
    "import numpy as np\n",
    "import seaborn as sns"
   ]
  },
  {
   "cell_type": "markdown",
   "id": "573a2f58-9248-408a-917c-8ac09ee13b04",
   "metadata": {},
   "source": [
    "#### Import and pre-process the dataset"
   ]
  },
  {
   "cell_type": "code",
   "execution_count": 2,
   "id": "11324fce-cc96-473d-84ea-e97c78c2c23a",
   "metadata": {},
   "outputs": [],
   "source": [
    "#Load and preprocess data\n",
    "data_path = \"C:/Data_MSc_Thesis/Pre_Processed_Data_Final/Pre_Processed_Data_All_Locations_V2.csv\"\n",
    "complete_dataset = pd.read_csv(data_path, low_memory=False)\n",
    "complete_dataset['datetime'] = pd.to_datetime(complete_dataset['datetime'], errors='coerce')\n",
    "complete_dataset['DOY'] = pd.to_numeric(complete_dataset['DOY'], errors='coerce')\n",
    "complete_dataset['daytime'] = pd.to_numeric(complete_dataset['daytime'], errors='coerce')\n",
    "complete_dataset['date'] = complete_dataset['datetime'].dt.date    # Extract date for grouping"
   ]
  },
  {
   "cell_type": "code",
   "execution_count": null,
   "id": "25801ad9-3ee5-40ae-9184-f25bc329746c",
   "metadata": {},
   "outputs": [],
   "source": [
    "#print(complete_dataset.info()) \n",
    "#complete_dataset.head(50)\n",
    "#complete_dataset.tail(100)"
   ]
  },
  {
   "cell_type": "markdown",
   "id": "4588d0ec-b2c2-48d0-a77f-2206e43cdb7d",
   "metadata": {},
   "source": [
    "#### Convert the units of the variables from [μmol m⁻² s⁻¹ to kg day⁻¹ ha⁻]"
   ]
  },
  {
   "cell_type": "code",
   "execution_count": 3,
   "id": "df90100d-656a-4475-8b11-9f1aa23e24e9",
   "metadata": {},
   "outputs": [],
   "source": [
    "# Define conversion factors\n",
    "CO2_conversion_factor = 38.016\n",
    "CH4_conversion_factor = 13.824\n",
    "\n",
    "columns_to_convert = ['NEE_CO2', 'NEE_CH4', 'GPP_NT', 'RECO_NT']    # Relevant columns for computation\n",
    "\n",
    "# Function to calculate daily means for selected columns\n",
    "def compute_daily_means(df, columns):\n",
    "    return df.groupby(['Source', 'date'])[columns].mean(numeric_only=True).reset_index()\n",
    "\n",
    "# Function to calculate weekly means for selected columns\n",
    "def compute_weekly_means(df, columns):\n",
    "    return (df.set_index('datetime')\n",
    "              .groupby('Source')[columns]\n",
    "              .resample('W', label='left')\n",
    "              .mean(numeric_only=True)\n",
    "              .reset_index())\n",
    "\n",
    "# Function to apply conversion factors\n",
    "def apply_conversions(df):\n",
    "    df = df.copy()\n",
    "    if 'NEE_CO2' in df.columns:\n",
    "        df['NEE_CO2_kg_day_ha'] = df['NEE_CO2'] * CO2_conversion_factor\n",
    "    if 'NEE_CH4' in df.columns:\n",
    "        df['NEE_CH4_kg_day_ha'] = df['NEE_CH4'] * CH4_conversion_factor\n",
    "    if 'GPP_NT' in df.columns:\n",
    "        df['GPP_NT_kg_day_ha'] = df['GPP_NT'] * CO2_conversion_factor\n",
    "    if 'RECO_NT' in df.columns:\n",
    "        df['RECO_NT_kg_day_ha'] = df['RECO_NT'] * CO2_conversion_factor\n",
    "    return df\n",
    "\n",
    "# Compute daily means for relevant columns\n",
    "Wholeday_daily_means = apply_conversions(compute_daily_means(complete_dataset, columns_to_convert))\n",
    "nighttime_daily_means = apply_conversions(compute_daily_means(complete_dataset[complete_dataset['daytime'] == 0], columns_to_convert))\n",
    "daytime_daily_means = apply_conversions(compute_daily_means(complete_dataset[complete_dataset['daytime'] == 1], columns_to_convert))\n",
    "NaN_daily_means = apply_conversions(compute_daily_means(complete_dataset[complete_dataset['daytime'].isna()], columns_to_convert))\n",
    "\n",
    "# Compute weekly means for relevant columns\n",
    "Wholeday_weekly_means = apply_conversions(compute_weekly_means(complete_dataset, columns_to_convert))\n",
    "nighttime_weekly_means = apply_conversions(compute_weekly_means(complete_dataset[complete_dataset['daytime'] == 0], columns_to_convert))\n",
    "daytime_weekly_means = apply_conversions(compute_weekly_means(complete_dataset[complete_dataset['daytime'] == 1], columns_to_convert))\n",
    "NaN_weekly_means = apply_conversions(compute_weekly_means(complete_dataset[complete_dataset['daytime'].isna()], columns_to_convert))"
   ]
  },
  {
   "cell_type": "markdown",
   "id": "09986bb4-e7f7-469d-be80-2e945264fae2",
   "metadata": {},
   "source": [
    "#### Rename the suffixes to the specified columns"
   ]
  },
  {
   "cell_type": "code",
   "execution_count": 4,
   "id": "f74ec467-a538-4d58-ab99-aa69fd783139",
   "metadata": {},
   "outputs": [],
   "source": [
    "# Adding the suffixes to the specified columns for Daily Averages\n",
    "DAv_24hrs_columns_to_rename = {\n",
    "    'NEE_CO2_kg_day_ha': 'NEE_CO2_kg_day_ha_DAv_24hrs',\n",
    "    'NEE_CH4_kg_day_ha': 'NEE_CH4_kg_day_ha_DAv_24hrs',\n",
    "    'GPP_NT_kg_day_ha': 'GPP_NT_kg_day_ha_DAv_24hrs',\n",
    "    'RECO_NT_kg_day_ha': 'RECO_NT_kg_day_ha_DAv_24hrs'}\n",
    "Wholeday_daily_means.rename(columns=DAv_24hrs_columns_to_rename, inplace=True)\n",
    "\n",
    "DAv_NT_columns_to_rename = {\n",
    "    'NEE_CO2_kg_day_ha': 'NEE_CO2_kg_day_ha_DAv_NT',\n",
    "    'NEE_CH4_kg_day_ha': 'NEE_CH4_kg_day_ha_DAv_NT',\n",
    "    'GPP_NT_kg_day_ha': 'GPP_NT_kg_day_ha_DAv_NT',\n",
    "    'RECO_NT_kg_day_ha': 'RECO_NT_kg_day_ha_DAv_NT'}\n",
    "nighttime_daily_means.rename(columns=DAv_NT_columns_to_rename, inplace=True)\n",
    "\n",
    "DAv_DT_columns_to_rename = {\n",
    "    'NEE_CO2_kg_day_ha': 'NEE_CO2_kg_day_ha_DAv_DT',\n",
    "    'NEE_CH4_kg_day_ha': 'NEE_CH4_kg_day_ha_DAv_DT',\n",
    "    'GPP_NT_kg_day_ha': 'GPP_NT_kg_day_ha_DAv_DT',\n",
    "    'RECO_NT_kg_day_ha': 'RECO_NT_kg_day_ha_DAv_DT'}\n",
    "daytime_daily_means.rename(columns=DAv_DT_columns_to_rename, inplace=True)\n",
    "\n",
    "DAv_NaN_columns_to_rename = {\n",
    "    'NEE_CO2_kg_day_ha': 'NEE_CO2_kg_day_ha_DAv_NaN',\n",
    "    'NEE_CH4_kg_day_ha': 'NEE_CH4_kg_day_ha_DAv_NaN',\n",
    "    'GPP_NT_kg_day_ha': 'GPP_NT_kg_day_ha_DAv_NaN',\n",
    "    'RECO_NT_kg_day_ha': 'RECO_NT_kg_day_ha_DAv_NaN'}\n",
    "NaN_daily_means.rename(columns=DAv_NaN_columns_to_rename, inplace=True)\n",
    "\n",
    "\n",
    "# Adding the suffixes to the specified columns for Weekly Averages\n",
    "WAv_24hrs_columns_to_rename = {\n",
    "    'NEE_CO2_kg_day_ha': 'NEE_CO2_kg_day_ha_WAv_24hrs',\n",
    "    'NEE_CH4_kg_day_ha': 'NEE_CH4_kg_day_ha_WAv_24hrs',\n",
    "    'GPP_NT_kg_day_ha': 'GPP_NT_kg_day_ha_WAv_24hrs',\n",
    "    'RECO_NT_kg_day_ha': 'RECO_NT_kg_day_ha_WAv_24hrs',\n",
    "    'datetime': 'date'\n",
    "}\n",
    "Wholeday_weekly_means.rename(columns=WAv_24hrs_columns_to_rename, inplace=True)\n",
    "\n",
    "WAv_NT_columns_to_rename = {\n",
    "    'NEE_CO2_kg_day_ha': 'NEE_CO2_kg_day_ha_WAv_NT',\n",
    "    'NEE_CH4_kg_day_ha': 'NEE_CH4_kg_day_ha_WAv_NT',\n",
    "    'GPP_NT_kg_day_ha': 'GPP_NT_kg_day_ha_WAv_NT',\n",
    "    'RECO_NT_kg_day_ha': 'RECO_NT_kg_day_ha_WAv_NT',\n",
    "    'datetime': 'date'\n",
    "}\n",
    "nighttime_weekly_means.rename(columns=WAv_NT_columns_to_rename, inplace=True)\n",
    "\n",
    "WAv_DT_columns_to_rename = {\n",
    "    'NEE_CO2_kg_day_ha': 'NEE_CO2_kg_day_ha_WAv_DT',\n",
    "    'NEE_CH4_kg_day_ha': 'NEE_CH4_kg_day_ha_WAv_DT',\n",
    "    'GPP_NT_kg_day_ha': 'GPP_NT_kg_day_ha_WAv_DT',\n",
    "    'RECO_NT_kg_day_ha': 'RECO_NT_kg_day_ha_WAv_DT',\n",
    "    'datetime': 'date'\n",
    "}\n",
    "daytime_weekly_means.rename(columns=WAv_DT_columns_to_rename, inplace=True)\n",
    "\n",
    "WAv_NaN_columns_to_rename = {\n",
    "    'NEE_CO2_kg_day_ha': 'NEE_CO2_kg_day_ha_WAv_NaN',\n",
    "    'NEE_CH4_kg_day_ha': 'NEE_CH4_kg_day_ha_WAv_NaN',\n",
    "    'GPP_NT_kg_day_ha': 'GPP_NT_kg_day_ha_WAv_NaN',\n",
    "    'RECO_NT_kg_day_ha': 'RECO_NT_kg_day_ha_WAv_NaN',\n",
    "    'datetime': 'date'\n",
    "}\n",
    "NaN_weekly_means.rename(columns=WAv_NaN_columns_to_rename, inplace=True)"
   ]
  },
  {
   "cell_type": "code",
   "execution_count": null,
   "id": "977ae565-e3fd-4f62-bbc1-15089af0943e",
   "metadata": {},
   "outputs": [],
   "source": [
    "#print(\"Wholeday_daily_means:\\n\", Wholeday_daily_means.info())\n",
    "#print(\"nighttime_daily_means:\\n\", nighttime_daily_means.info())\n",
    "#print(\"daytime_daily_means:\\n\", daytime_daily_means.info())\n",
    "#print(\"NaN_daily_means:\\n\", NaN_daily_means.info())\n",
    "#print(\"Wholeday_weekly_means:\\n\", Wholeday_weekly_means.info())\n",
    "#print(\"nighttime_weekly_means:\\n\", nighttime_weekly_means.info())\n",
    "#print(\"daytime_weekly_means:\\n\", daytime_weekly_means.info())\n",
    "#print(\"NaN_weekly_means:\\n\", NaN_weekly_means.info())"
   ]
  },
  {
   "cell_type": "markdown",
   "id": "fd967197-b411-45f2-af64-121f46ecd2c4",
   "metadata": {},
   "source": [
    "#### Merge the new columns to the original dataframe  "
   ]
  },
  {
   "cell_type": "code",
   "execution_count": 5,
   "id": "a9ddfa6a-7253-4391-a6b4-cf31d390722c",
   "metadata": {},
   "outputs": [],
   "source": [
    "# Convert 'Date' columns to datetime format\n",
    "datasets = [Wholeday_daily_means, nighttime_daily_means, daytime_daily_means, NaN_daily_means,\n",
    "            Wholeday_weekly_means, nighttime_weekly_means, daytime_weekly_means, NaN_weekly_means]\n",
    "\n",
    "for df in datasets:\n",
    "    df['date'] = pd.to_datetime(df['date'])\n",
    "\n",
    "merge_info = [\n",
    "    (Wholeday_daily_means, ['NEE_CO2_kg_day_ha_DAv_24hrs', 'NEE_CH4_kg_day_ha_DAv_24hrs', 'GPP_NT_kg_day_ha_DAv_24hrs', 'RECO_NT_kg_day_ha_DAv_24hrs']),\n",
    "    (nighttime_daily_means, ['NEE_CO2_kg_day_ha_DAv_NT', 'NEE_CH4_kg_day_ha_DAv_NT', 'GPP_NT_kg_day_ha_DAv_NT', 'RECO_NT_kg_day_ha_DAv_NT']),\n",
    "    (daytime_daily_means, ['NEE_CO2_kg_day_ha_DAv_DT', 'NEE_CH4_kg_day_ha_DAv_DT', 'GPP_NT_kg_day_ha_DAv_DT', 'RECO_NT_kg_day_ha_DAv_DT']),\n",
    "    (NaN_daily_means, ['NEE_CO2_kg_day_ha_DAv_NaN', 'NEE_CH4_kg_day_ha_DAv_NaN', 'GPP_NT_kg_day_ha_DAv_NaN', 'RECO_NT_kg_day_ha_DAv_NaN']),\n",
    "    (Wholeday_weekly_means, ['NEE_CO2_kg_day_ha_WAv_24hrs', 'NEE_CH4_kg_day_ha_WAv_24hrs', 'GPP_NT_kg_day_ha_WAv_24hrs', 'RECO_NT_kg_day_ha_WAv_24hrs']),\n",
    "    (nighttime_weekly_means, ['NEE_CO2_kg_day_ha_WAv_NT', 'NEE_CH4_kg_day_ha_WAv_NT', 'GPP_NT_kg_day_ha_WAv_NT', 'RECO_NT_kg_day_ha_WAv_NT']),\n",
    "    (daytime_weekly_means, ['NEE_CO2_kg_day_ha_WAv_DT', 'NEE_CH4_kg_day_ha_WAv_DT', 'GPP_NT_kg_day_ha_WAv_DT', 'RECO_NT_kg_day_ha_WAv_DT']),\n",
    "    (NaN_weekly_means, ['NEE_CO2_kg_day_ha_WAv_NaN', 'NEE_CH4_kg_day_ha_WAv_NaN', 'GPP_NT_kg_day_ha_WAv_NaN', 'RECO_NT_kg_day_ha_WAv_NaN'])\n",
    "]\n",
    "\n",
    "# Convert 'date' to datetime format in all datasets\n",
    "for df in [complete_dataset, Wholeday_daily_means, nighttime_daily_means, daytime_daily_means, NaN_daily_means,\n",
    "           Wholeday_weekly_means, nighttime_weekly_means, daytime_weekly_means, NaN_weekly_means]:\n",
    "    if df is not None and 'date' in df.columns:\n",
    "        df['date'] = pd.to_datetime(df['date'], errors='coerce')  # Convert safely\n",
    "\n",
    "# Perform the merging\n",
    "for df, cols in merge_info:\n",
    "    if 'date' in df.columns and 'Source' in df.columns:\n",
    "        complete_dataset = complete_dataset.merge(\n",
    "            df[['Source', 'date'] + [col for col in cols if col in df.columns]],\n",
    "            on=['Source', 'date'], how='left')\n",
    "    else:\n",
    "        print(f\"Skipping dataset {df} due to missing columns\")"
   ]
  },
  {
   "cell_type": "markdown",
   "id": "3b2911cd-0212-4c37-96b2-7363df910f88",
   "metadata": {},
   "source": [
    "####  Perform a couple of post-processing steps"
   ]
  },
  {
   "cell_type": "code",
   "execution_count": 6,
   "id": "3a27a32c-82c3-4ecd-87be-34683c0f30ad",
   "metadata": {},
   "outputs": [],
   "source": [
    "complete_dataset = complete_dataset.dropna(axis=1, how='all')  # drop the columns that contain only NaN values\n",
    "cols = list(complete_dataset.columns)  \n",
    "cols.insert(1, cols.pop(cols.index('date')))                   # Move 'date' right after 'datetime'\n",
    "complete_dataset = complete_dataset[cols]"
   ]
  },
  {
   "cell_type": "code",
   "execution_count": 7,
   "id": "5eaaf3ce-9c92-46fb-a527-07af85f89f07",
   "metadata": {
    "scrolled": true
   },
   "outputs": [
    {
     "name": "stdout",
     "output_type": "stream",
     "text": [
      "<class 'pandas.core.frame.DataFrame'>\n",
      "RangeIndex: 425308 entries, 0 to 425307\n",
      "Data columns (total 72 columns):\n",
      " #   Column                       Non-Null Count   Dtype         \n",
      "---  ------                       --------------   -----         \n",
      " 0   datetime                     425299 non-null  datetime64[ns]\n",
      " 1   date                         425299 non-null  datetime64[ns]\n",
      " 2   DOY                          425191 non-null  float64       \n",
      " 3   daytime                      141695 non-null  float64       \n",
      " 4   Source                       425308 non-null  object        \n",
      " 5   SWCT_1_005                   390173 non-null  float64       \n",
      " 6   SWCT_1_015                   405102 non-null  float64       \n",
      " 7   SWCT_1_025                   405250 non-null  float64       \n",
      " 8   SWCT_1_035                   405140 non-null  float64       \n",
      " 9   SWCT_1_045                   405447 non-null  float64       \n",
      " 10  SWCT_1_055                   405289 non-null  float64       \n",
      " 11  SWCT_1_065                   405442 non-null  float64       \n",
      " 12  SWCT_1_075                   405565 non-null  float64       \n",
      " 13  SWCT_1_085                   405564 non-null  float64       \n",
      " 14  SWCT_1_095                   391620 non-null  float64       \n",
      " 15  SWCT_1_105                   405528 non-null  float64       \n",
      " 16  SWCT_1_115                   405570 non-null  float64       \n",
      " 17  STMP_1_005                   391502 non-null  float64       \n",
      " 18  STMP_1_015                   395243 non-null  float64       \n",
      " 19  STMP_1_025                   392751 non-null  float64       \n",
      " 20  STMP_1_035                   389116 non-null  float64       \n",
      " 21  STMP_1_045                   390064 non-null  float64       \n",
      " 22  STMP_1_055                   388415 non-null  float64       \n",
      " 23  STMP_1_065                   391737 non-null  float64       \n",
      " 24  STMP_1_075                   388028 non-null  float64       \n",
      " 25  STMP_1_085                   385661 non-null  float64       \n",
      " 26  STMP_1_095                   381062 non-null  float64       \n",
      " 27  STMP_1_105                   388814 non-null  float64       \n",
      " 28  STMP_1_115                   361586 non-null  float64       \n",
      " 29  WLEV_f                       290698 non-null  float64       \n",
      " 30  WTMP_f                       139395 non-null  float64       \n",
      " 31  ATMP_f                       425191 non-null  float64       \n",
      " 32  PAIR_f                       425191 non-null  float64       \n",
      " 33  WIND_f                       425191 non-null  float64       \n",
      " 34  WINS_f                       425191 non-null  float64       \n",
      " 35  RHUM_f                       425191 non-null  float64       \n",
      " 36  RAIN_f                       425191 non-null  float64       \n",
      " 37  VPD_f                        417683 non-null  float64       \n",
      " 38  SWIN_f                       425191 non-null  float64       \n",
      " 39  ET                           136987 non-null  float64       \n",
      " 40  NEE_CO2                      69301 non-null   float64       \n",
      " 41  NEE_CH4                      13849 non-null   float64       \n",
      " 42  GPP_NT                       372314 non-null  float64       \n",
      " 43  RECO_NT                      425010 non-null  float64       \n",
      " 44  NEE_CO2_kg_day_ha_DAv_24hrs  144613 non-null  float64       \n",
      " 45  NEE_CH4_kg_day_ha_DAv_24hrs  30541 non-null   float64       \n",
      " 46  GPP_NT_kg_day_ha_DAv_24hrs   372993 non-null  float64       \n",
      " 47  RECO_NT_kg_day_ha_DAv_24hrs  425083 non-null  float64       \n",
      " 48  NEE_CO2_kg_day_ha_DAv_NT     129039 non-null  float64       \n",
      " 49  NEE_CH4_kg_day_ha_DAv_NT     27015 non-null   float64       \n",
      " 50  GPP_NT_kg_day_ha_DAv_NT      158105 non-null  float64       \n",
      " 51  RECO_NT_kg_day_ha_DAv_NT     158489 non-null  float64       \n",
      " 52  NEE_CO2_kg_day_ha_DAv_DT     136318 non-null  float64       \n",
      " 53  NEE_CH4_kg_day_ha_DAv_DT     28957 non-null   float64       \n",
      " 54  GPP_NT_kg_day_ha_DAv_DT      157941 non-null  float64       \n",
      " 55  RECO_NT_kg_day_ha_DAv_DT     158373 non-null  float64       \n",
      " 56  GPP_NT_kg_day_ha_DAv_NaN     372358 non-null  float64       \n",
      " 57  RECO_NT_kg_day_ha_DAv_NaN    424928 non-null  float64       \n",
      " 58  NEE_CO2_kg_day_ha_WAv_24hrs  30168 non-null   float64       \n",
      " 59  NEE_CH4_kg_day_ha_WAv_24hrs  7682 non-null    float64       \n",
      " 60  GPP_NT_kg_day_ha_WAv_24hrs   53904 non-null   float64       \n",
      " 61  RECO_NT_kg_day_ha_WAv_24hrs  60778 non-null   float64       \n",
      " 62  NEE_CO2_kg_day_ha_WAv_NT     28920 non-null   float64       \n",
      " 63  NEE_CH4_kg_day_ha_WAv_NT     7204 non-null    float64       \n",
      " 64  GPP_NT_kg_day_ha_WAv_NT      30408 non-null   float64       \n",
      " 65  RECO_NT_kg_day_ha_WAv_NT     30456 non-null   float64       \n",
      " 66  NEE_CO2_kg_day_ha_WAv_DT     30024 non-null   float64       \n",
      " 67  NEE_CH4_kg_day_ha_WAv_DT     7490 non-null    float64       \n",
      " 68  GPP_NT_kg_day_ha_WAv_DT      31180 non-null   float64       \n",
      " 69  RECO_NT_kg_day_ha_WAv_DT     31228 non-null   float64       \n",
      " 70  GPP_NT_kg_day_ha_WAv_NaN     53904 non-null   float64       \n",
      " 71  RECO_NT_kg_day_ha_WAv_NaN    60778 non-null   float64       \n",
      "dtypes: datetime64[ns](2), float64(69), object(1)\n",
      "memory usage: 233.6+ MB\n",
      "None\n"
     ]
    }
   ],
   "source": [
    "#print(complete_dataset.columns)\n",
    "#print(complete_dataset.dtypes) \n",
    "print(complete_dataset.info(verbose=True)) "
   ]
  },
  {
   "cell_type": "markdown",
   "id": "bdc5679d-53bf-4cef-b283-6fedd7cfd4bc",
   "metadata": {},
   "source": [
    "### Export the final dataframe to a CSV file"
   ]
  },
  {
   "cell_type": "code",
   "execution_count": 8,
   "id": "48d3f875-d218-4aef-baca-fec2f417fc10",
   "metadata": {},
   "outputs": [
    {
     "name": "stdout",
     "output_type": "stream",
     "text": [
      "DataFrame successfully saved to C:/Data_MSc_Thesis/Pre_Processed_Data_Final/Pre_Processed_Data_All_Locations_V3.csv\n"
     ]
    }
   ],
   "source": [
    "output_path = \"C:/Data_MSc_Thesis/Pre_Processed_Data_Final/Pre_Processed_Data_All_Locations_V3.csv\"  # Update the path as needed\n",
    "complete_dataset.to_csv(output_path, index=False)\n",
    "\n",
    "print(f\"DataFrame successfully saved to {output_path}\")"
   ]
  }
 ],
 "metadata": {
  "kernelspec": {
   "display_name": "Python 3 (ipykernel)",
   "language": "python",
   "name": "python3"
  },
  "language_info": {
   "codemirror_mode": {
    "name": "ipython",
    "version": 3
   },
   "file_extension": ".py",
   "mimetype": "text/x-python",
   "name": "python",
   "nbconvert_exporter": "python",
   "pygments_lexer": "ipython3",
   "version": "3.12.7"
  }
 },
 "nbformat": 4,
 "nbformat_minor": 5
}
