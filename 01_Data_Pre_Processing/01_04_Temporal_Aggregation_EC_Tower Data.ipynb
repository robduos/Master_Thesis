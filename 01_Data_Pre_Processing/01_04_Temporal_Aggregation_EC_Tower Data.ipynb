{
 "cells": [
  {
   "attachments": {},
   "cell_type": "markdown",
   "id": "256e3f44-3e2f-4ccc-b4d5-9a582ace6b50",
   "metadata": {},
   "source": [
    "Script Description:\n",
    "Perform temporal aggregation (daily averages) of the merged dataframe.\n",
    "\n",
    "File Name: 01_04_Temporal_Aggregation_EC_Tower Data.ipynb\n",
    "\n",
    "Date: 2025\n",
    "\n",
    "Created by: Rob Alamgir\n",
    "\n",
    "Version: 1.0\n",
    "\n",
    "References:"
   ]
  },
  {
   "cell_type": "markdown",
   "id": "7ad77db0-54d0-429b-a1d9-c12980d7e291",
   "metadata": {},
   "source": [
    "#### Import the relevant packages"
   ]
  },
  {
   "cell_type": "code",
   "execution_count": 1,
   "id": "50bb037c-eb1e-44b4-a5cf-b613342bd0d3",
   "metadata": {},
   "outputs": [],
   "source": [
    "import os\n",
    "import pandas as pd\n",
    "import matplotlib.pyplot as plt\n",
    "import seaborn as sns\n",
    "import pandas as pd\n",
    "import numpy as np"
   ]
  },
  {
   "cell_type": "markdown",
   "id": "cc4b5ea5-d0e7-4dd7-9ba8-8d60a35a7487",
   "metadata": {},
   "source": [
    "#### Load and preprocess data"
   ]
  },
  {
   "cell_type": "code",
   "execution_count": 2,
   "id": "60d4f3c4-ff59-4eaa-86f3-ad95f4780a61",
   "metadata": {},
   "outputs": [],
   "source": [
    "data_path = \"C:/Data_MSc_Thesis/Pre_Processed_Data_Final/Pre_Processed_Data_All_Locations_V3.csv\"\n",
    "complete_dataset = pd.read_csv(data_path, low_memory=False)\n",
    "complete_dataset['datetime'] = pd.to_datetime(complete_dataset['datetime'], errors='coerce')\n",
    "complete_dataset['DOY'] = pd.to_numeric(complete_dataset['DOY'], errors='coerce')\n",
    "complete_dataset = complete_dataset.drop(columns=['daytime'])                \n",
    "complete_dataset['date'] = complete_dataset['datetime'].dt.date   \n",
    "complete_dataset['date'] = pd.to_datetime(complete_dataset['date'], errors='coerce')"
   ]
  },
  {
   "cell_type": "code",
   "execution_count": 3,
   "id": "563097c2-5df2-4199-b691-3833faceb071",
   "metadata": {},
   "outputs": [
    {
     "name": "stdout",
     "output_type": "stream",
     "text": [
      "<class 'pandas.core.frame.DataFrame'>\n",
      "RangeIndex: 425308 entries, 0 to 425307\n",
      "Data columns (total 71 columns):\n",
      " #   Column                       Non-Null Count   Dtype         \n",
      "---  ------                       --------------   -----         \n",
      " 0   datetime                     425299 non-null  datetime64[ns]\n",
      " 1   date                         425299 non-null  datetime64[ns]\n",
      " 2   DOY                          425191 non-null  float64       \n",
      " 3   Source                       425308 non-null  object        \n",
      " 4   SWCT_1_005                   390173 non-null  float64       \n",
      " 5   SWCT_1_015                   405102 non-null  float64       \n",
      " 6   SWCT_1_025                   405250 non-null  float64       \n",
      " 7   SWCT_1_035                   405140 non-null  float64       \n",
      " 8   SWCT_1_045                   405447 non-null  float64       \n",
      " 9   SWCT_1_055                   405289 non-null  float64       \n",
      " 10  SWCT_1_065                   405442 non-null  float64       \n",
      " 11  SWCT_1_075                   405565 non-null  float64       \n",
      " 12  SWCT_1_085                   405564 non-null  float64       \n",
      " 13  SWCT_1_095                   391620 non-null  float64       \n",
      " 14  SWCT_1_105                   405528 non-null  float64       \n",
      " 15  SWCT_1_115                   405570 non-null  float64       \n",
      " 16  STMP_1_005                   391502 non-null  float64       \n",
      " 17  STMP_1_015                   395243 non-null  float64       \n",
      " 18  STMP_1_025                   392751 non-null  float64       \n",
      " 19  STMP_1_035                   389116 non-null  float64       \n",
      " 20  STMP_1_045                   390064 non-null  float64       \n",
      " 21  STMP_1_055                   388415 non-null  float64       \n",
      " 22  STMP_1_065                   391737 non-null  float64       \n",
      " 23  STMP_1_075                   388028 non-null  float64       \n",
      " 24  STMP_1_085                   385661 non-null  float64       \n",
      " 25  STMP_1_095                   381062 non-null  float64       \n",
      " 26  STMP_1_105                   388814 non-null  float64       \n",
      " 27  STMP_1_115                   361586 non-null  float64       \n",
      " 28  WLEV_f                       290698 non-null  float64       \n",
      " 29  WTMP_f                       139395 non-null  float64       \n",
      " 30  ATMP_f                       425191 non-null  float64       \n",
      " 31  PAIR_f                       425191 non-null  float64       \n",
      " 32  WIND_f                       425191 non-null  float64       \n",
      " 33  WINS_f                       425191 non-null  float64       \n",
      " 34  RHUM_f                       425191 non-null  float64       \n",
      " 35  RAIN_f                       425191 non-null  float64       \n",
      " 36  VPD_f                        417683 non-null  float64       \n",
      " 37  SWIN_f                       425191 non-null  float64       \n",
      " 38  ET                           136987 non-null  float64       \n",
      " 39  NEE_CO2                      69301 non-null   float64       \n",
      " 40  NEE_CH4                      13849 non-null   float64       \n",
      " 41  GPP_NT                       372314 non-null  float64       \n",
      " 42  RECO_NT                      425010 non-null  float64       \n",
      " 43  NEE_CO2_kg_day_ha_DAv_24hrs  144613 non-null  float64       \n",
      " 44  NEE_CH4_kg_day_ha_DAv_24hrs  30541 non-null   float64       \n",
      " 45  GPP_NT_kg_day_ha_DAv_24hrs   372993 non-null  float64       \n",
      " 46  RECO_NT_kg_day_ha_DAv_24hrs  425083 non-null  float64       \n",
      " 47  NEE_CO2_kg_day_ha_DAv_NT     129039 non-null  float64       \n",
      " 48  NEE_CH4_kg_day_ha_DAv_NT     27015 non-null   float64       \n",
      " 49  GPP_NT_kg_day_ha_DAv_NT      158105 non-null  float64       \n",
      " 50  RECO_NT_kg_day_ha_DAv_NT     158489 non-null  float64       \n",
      " 51  NEE_CO2_kg_day_ha_DAv_DT     136318 non-null  float64       \n",
      " 52  NEE_CH4_kg_day_ha_DAv_DT     28957 non-null   float64       \n",
      " 53  GPP_NT_kg_day_ha_DAv_DT      157941 non-null  float64       \n",
      " 54  RECO_NT_kg_day_ha_DAv_DT     158373 non-null  float64       \n",
      " 55  GPP_NT_kg_day_ha_DAv_NaN     372358 non-null  float64       \n",
      " 56  RECO_NT_kg_day_ha_DAv_NaN    424928 non-null  float64       \n",
      " 57  NEE_CO2_kg_day_ha_WAv_24hrs  30168 non-null   float64       \n",
      " 58  NEE_CH4_kg_day_ha_WAv_24hrs  7682 non-null    float64       \n",
      " 59  GPP_NT_kg_day_ha_WAv_24hrs   53904 non-null   float64       \n",
      " 60  RECO_NT_kg_day_ha_WAv_24hrs  60778 non-null   float64       \n",
      " 61  NEE_CO2_kg_day_ha_WAv_NT     28920 non-null   float64       \n",
      " 62  NEE_CH4_kg_day_ha_WAv_NT     7204 non-null    float64       \n",
      " 63  GPP_NT_kg_day_ha_WAv_NT      30408 non-null   float64       \n",
      " 64  RECO_NT_kg_day_ha_WAv_NT     30456 non-null   float64       \n",
      " 65  NEE_CO2_kg_day_ha_WAv_DT     30024 non-null   float64       \n",
      " 66  NEE_CH4_kg_day_ha_WAv_DT     7490 non-null    float64       \n",
      " 67  GPP_NT_kg_day_ha_WAv_DT      31180 non-null   float64       \n",
      " 68  RECO_NT_kg_day_ha_WAv_DT     31228 non-null   float64       \n",
      " 69  GPP_NT_kg_day_ha_WAv_NaN     53904 non-null   float64       \n",
      " 70  RECO_NT_kg_day_ha_WAv_NaN    60778 non-null   float64       \n",
      "dtypes: datetime64[ns](2), float64(68), object(1)\n",
      "memory usage: 230.4+ MB\n",
      "None\n"
     ]
    }
   ],
   "source": [
    "print(complete_dataset.info()) \n",
    "#complete_dataset.head(15)\n",
    "#complete_dataset.tail(15)"
   ]
  },
  {
   "cell_type": "markdown",
   "id": "5cbbc004-5e08-44b8-a3c0-bb123538e17b",
   "metadata": {},
   "source": [
    "#### Compute the Monthly and Weekly Total Rainfall "
   ]
  },
  {
   "cell_type": "code",
   "execution_count": 4,
   "id": "911b32da-24b8-4f81-bd88-8cb1160c93e0",
   "metadata": {},
   "outputs": [],
   "source": [
    "# Ensure 'date' column is in datetime format\n",
    "complete_dataset['date'] = pd.to_datetime(complete_dataset['date'])\n",
    "\n",
    "# Create new columns for year-month and year-week\n",
    "complete_dataset['year_month'] = complete_dataset['date'].dt.to_period('M').astype(str)\n",
    "complete_dataset['year_week'] = complete_dataset['date'].dt.to_period('W').astype(str)\n",
    "\n",
    "# Compute the monthly rainfall sum per location\n",
    "monthly_rain_sum = complete_dataset.groupby(['Source', 'year_month'])['RAIN_f'].sum().reset_index()\n",
    "monthly_rain_sum.rename(columns={'RAIN_f': 'RAIN_f_monthly_sum'}, inplace=True)\n",
    "\n",
    "# Compute the weekly rainfall sum per location\n",
    "weekly_rain_sum = complete_dataset.groupby(['Source', 'year_week'])['RAIN_f'].sum().reset_index()\n",
    "weekly_rain_sum.rename(columns={'RAIN_f': 'RAIN_f_weekly_sum'}, inplace=True)\n",
    "\n",
    "# Replace values above 1000 with NaN in monthly rainfall only\n",
    "monthly_rain_sum.loc[monthly_rain_sum['RAIN_f_monthly_sum'] > 1000, 'RAIN_f_monthly_sum'] = pd.NA\n",
    "weekly_rain_sum.loc[weekly_rain_sum['RAIN_f_weekly_sum'] > 1000, 'RAIN_f_weekly_sum'] = pd.NA\n",
    "\n",
    "# Merge back into the original dataset while ensuring no duplicates\n",
    "if 'RAIN_f_monthly_sum' not in complete_dataset.columns:\n",
    "    complete_dataset = complete_dataset.merge(monthly_rain_sum, on=['Source', 'year_month'], how='left')\n",
    "\n",
    "if 'RAIN_f_weekly_sum' not in complete_dataset.columns:\n",
    "    complete_dataset = complete_dataset.merge(weekly_rain_sum, on=['Source', 'year_week'], how='left')"
   ]
  },
  {
   "cell_type": "markdown",
   "id": "650f2d40-b267-4772-a550-a1471b9bee6a",
   "metadata": {},
   "source": [
    "#### Perform temporal aggregation "
   ]
  },
  {
   "cell_type": "code",
   "execution_count": 5,
   "id": "6e40d109-800e-49ac-b621-2dcfa1fdca69",
   "metadata": {},
   "outputs": [],
   "source": [
    "# List of columns to leave unchanged\n",
    "columns_to_keep = ['Source', 'date', 'DOY', 'year_month', 'year_week', 'RAIN_f_monthly_sum', 'RAIN_f_weekly_sum']\n",
    "\n",
    "# Define aggregation methods\n",
    "agg_dict = {col: 'mean' for col in complete_dataset.columns if col not in columns_to_keep}\n",
    "agg_dict.update({\n",
    "    'DOY': 'first',  # Keep the first occurrence\n",
    "    'year_month': 'first',  # Keep the first occurrence\n",
    "    'year_week': 'first',  # Keep the first occurrence\n",
    "    'RAIN_f_monthly_sum': 'first',  # Monthly sum should remain unchanged\n",
    "    'RAIN_f_weekly_sum': 'first'  # Weekly sum should remain unchanged\n",
    "})\n",
    "\n",
    "# Perform the aggregation and reset index\n",
    "daily_avg_df = complete_dataset.groupby(['Source', 'date'], as_index=False).agg(agg_dict).reset_index(drop=True)"
   ]
  },
  {
   "cell_type": "markdown",
   "id": "74e8700f-7b69-4878-abd5-0d2383226a19",
   "metadata": {},
   "source": [
    "#### Reorder the order of the columns in the dataframe"
   ]
  },
  {
   "cell_type": "code",
   "execution_count": 6,
   "id": "8bb02892-8cbb-454d-b4f3-2f790bb1845e",
   "metadata": {},
   "outputs": [],
   "source": [
    "# Drop the 'datetime' column if it exists\n",
    "daily_avg_df = daily_avg_df.drop(columns=['datetime'], errors='ignore')\n",
    "\n",
    "# Define the desired order for the first few columns\n",
    "first_columns = ['date', 'year_month', 'year_week', 'DOY', 'Source']\n",
    "\n",
    "# Ensure first_columns are in the dataset and maintain their order\n",
    "first_columns = [col for col in first_columns if col in daily_avg_df.columns]\n",
    "\n",
    "# Find the position of 'RAIN_f'\n",
    "rain_f_index = daily_avg_df.columns.get_loc('RAIN_f')\n",
    "\n",
    "# Get the current column order and remove 'RAIN_f_monthly_sum' & 'RAIN_f_weekly_sum' if they exist\n",
    "columns = list(daily_avg_df.columns)\n",
    "columns.remove('RAIN_f_monthly_sum') if 'RAIN_f_monthly_sum' in columns else None\n",
    "columns.remove('RAIN_f_weekly_sum') if 'RAIN_f_weekly_sum' in columns else None\n",
    "\n",
    "# Insert 'RAIN_f_monthly_sum' and 'RAIN_f_weekly_sum' right after 'RAIN_f'\n",
    "columns[rain_f_index + 1:rain_f_index + 1] = ['RAIN_f_monthly_sum', 'RAIN_f_weekly_sum']\n",
    "\n",
    "# Ensure first columns are placed at the beginning\n",
    "remaining_columns = [col for col in columns if col not in first_columns]\n",
    "final_order = first_columns + remaining_columns\n",
    "\n",
    "# Reorder the DataFrame\n",
    "daily_avg_df = daily_avg_df[final_order]"
   ]
  },
  {
   "cell_type": "code",
   "execution_count": 7,
   "id": "98be456c-ef0a-4a2a-b065-1b59cd2a0710",
   "metadata": {},
   "outputs": [
    {
     "name": "stdout",
     "output_type": "stream",
     "text": [
      "<class 'pandas.core.frame.DataFrame'>\n",
      "RangeIndex: 8870 entries, 0 to 8869\n",
      "Data columns (total 74 columns):\n",
      " #   Column                       Non-Null Count  Dtype         \n",
      "---  ------                       --------------  -----         \n",
      " 0   date                         8870 non-null   datetime64[ns]\n",
      " 1   year_month                   8870 non-null   object        \n",
      " 2   year_week                    8870 non-null   object        \n",
      " 3   DOY                          8870 non-null   float64       \n",
      " 4   Source                       8870 non-null   object        \n",
      " 5   SWCT_1_005                   8240 non-null   float64       \n",
      " 6   SWCT_1_015                   8529 non-null   float64       \n",
      " 7   SWCT_1_025                   8530 non-null   float64       \n",
      " 8   SWCT_1_035                   8527 non-null   float64       \n",
      " 9   SWCT_1_045                   8531 non-null   float64       \n",
      " 10  SWCT_1_055                   8529 non-null   float64       \n",
      " 11  SWCT_1_065                   8531 non-null   float64       \n",
      " 12  SWCT_1_075                   8531 non-null   float64       \n",
      " 13  SWCT_1_085                   8531 non-null   float64       \n",
      " 14  SWCT_1_095                   8256 non-null   float64       \n",
      " 15  SWCT_1_105                   8531 non-null   float64       \n",
      " 16  SWCT_1_115                   8531 non-null   float64       \n",
      " 17  STMP_1_005                   8258 non-null   float64       \n",
      " 18  STMP_1_015                   8323 non-null   float64       \n",
      " 19  STMP_1_025                   8320 non-null   float64       \n",
      " 20  STMP_1_035                   8289 non-null   float64       \n",
      " 21  STMP_1_045                   8291 non-null   float64       \n",
      " 22  STMP_1_055                   8278 non-null   float64       \n",
      " 23  STMP_1_065                   8302 non-null   float64       \n",
      " 24  STMP_1_075                   8265 non-null   float64       \n",
      " 25  STMP_1_085                   8214 non-null   float64       \n",
      " 26  STMP_1_095                   8171 non-null   float64       \n",
      " 27  STMP_1_105                   8252 non-null   float64       \n",
      " 28  STMP_1_115                   7848 non-null   float64       \n",
      " 29  WLEV_f                       7591 non-null   float64       \n",
      " 30  WTMP_f                       2912 non-null   float64       \n",
      " 31  ATMP_f                       8870 non-null   float64       \n",
      " 32  PAIR_f                       8870 non-null   float64       \n",
      " 33  WIND_f                       8870 non-null   float64       \n",
      " 34  WINS_f                       8870 non-null   float64       \n",
      " 35  RHUM_f                       8870 non-null   float64       \n",
      " 36  RAIN_f                       8870 non-null   float64       \n",
      " 37  RAIN_f_monthly_sum           8779 non-null   float64       \n",
      " 38  RAIN_f_weekly_sum            8835 non-null   float64       \n",
      " 39  VPD_f                        8734 non-null   float64       \n",
      " 40  SWIN_f                       8870 non-null   float64       \n",
      " 41  ET                           3346 non-null   float64       \n",
      " 42  NEE_CO2                      3022 non-null   float64       \n",
      " 43  NEE_CH4                      638 non-null    float64       \n",
      " 44  GPP_NT                       7780 non-null   float64       \n",
      " 45  RECO_NT                      8865 non-null   float64       \n",
      " 46  NEE_CO2_kg_day_ha_DAv_24hrs  3022 non-null   float64       \n",
      " 47  NEE_CH4_kg_day_ha_DAv_24hrs  638 non-null    float64       \n",
      " 48  GPP_NT_kg_day_ha_DAv_24hrs   7780 non-null   float64       \n",
      " 49  RECO_NT_kg_day_ha_DAv_24hrs  8865 non-null   float64       \n",
      " 50  NEE_CO2_kg_day_ha_DAv_NT     2696 non-null   float64       \n",
      " 51  NEE_CH4_kg_day_ha_DAv_NT     564 non-null    float64       \n",
      " 52  GPP_NT_kg_day_ha_DAv_NT      3304 non-null   float64       \n",
      " 53  RECO_NT_kg_day_ha_DAv_NT     3312 non-null   float64       \n",
      " 54  NEE_CO2_kg_day_ha_DAv_DT     2848 non-null   float64       \n",
      " 55  NEE_CH4_kg_day_ha_DAv_DT     605 non-null    float64       \n",
      " 56  GPP_NT_kg_day_ha_DAv_DT      3299 non-null   float64       \n",
      " 57  RECO_NT_kg_day_ha_DAv_DT     3308 non-null   float64       \n",
      " 58  GPP_NT_kg_day_ha_DAv_NaN     7763 non-null   float64       \n",
      " 59  RECO_NT_kg_day_ha_DAv_NaN    8858 non-null   float64       \n",
      " 60  NEE_CO2_kg_day_ha_WAv_24hrs  628 non-null    float64       \n",
      " 61  NEE_CH4_kg_day_ha_WAv_24hrs  160 non-null    float64       \n",
      " 62  GPP_NT_kg_day_ha_WAv_24hrs   1122 non-null   float64       \n",
      " 63  RECO_NT_kg_day_ha_WAv_24hrs  1265 non-null   float64       \n",
      " 64  NEE_CO2_kg_day_ha_WAv_NT     602 non-null    float64       \n",
      " 65  NEE_CH4_kg_day_ha_WAv_NT     150 non-null    float64       \n",
      " 66  GPP_NT_kg_day_ha_WAv_NT      633 non-null    float64       \n",
      " 67  RECO_NT_kg_day_ha_WAv_NT     634 non-null    float64       \n",
      " 68  NEE_CO2_kg_day_ha_WAv_DT     625 non-null    float64       \n",
      " 69  NEE_CH4_kg_day_ha_WAv_DT     156 non-null    float64       \n",
      " 70  GPP_NT_kg_day_ha_WAv_DT      649 non-null    float64       \n",
      " 71  RECO_NT_kg_day_ha_WAv_DT     650 non-null    float64       \n",
      " 72  GPP_NT_kg_day_ha_WAv_NaN     1122 non-null   float64       \n",
      " 73  RECO_NT_kg_day_ha_WAv_NaN    1265 non-null   float64       \n",
      "dtypes: datetime64[ns](1), float64(70), object(3)\n",
      "memory usage: 5.0+ MB\n",
      "None\n"
     ]
    }
   ],
   "source": [
    "print(daily_avg_df.info()) \n",
    "#daily_avg_df.head(15)\n",
    "#daily_avg_df.tail(15)"
   ]
  },
  {
   "cell_type": "markdown",
   "id": "63b9eaa6-88e3-4495-90c7-9b2851474137",
   "metadata": {},
   "source": [
    "#### Export the final dataframe to a CSV file"
   ]
  },
  {
   "cell_type": "code",
   "execution_count": 8,
   "id": "513d776d-4683-45d8-be4f-4f3627fea2c1",
   "metadata": {},
   "outputs": [
    {
     "name": "stdout",
     "output_type": "stream",
     "text": [
      "DataFrame successfully saved to C:/Data_MSc_Thesis/Pre_Processed_Data_Final/Pre_Processed_Data_All_Locations_V4.csv\n"
     ]
    }
   ],
   "source": [
    "output_path = \"C:/Data_MSc_Thesis/Pre_Processed_Data_Final/Pre_Processed_Data_All_Locations_V4.csv\"  # Update the path as needed\n",
    "daily_avg_df.to_csv(output_path, index=False)\n",
    "\n",
    "print(f\"DataFrame successfully saved to {output_path}\")"
   ]
  }
 ],
 "metadata": {
  "kernelspec": {
   "display_name": "Python 3 (ipykernel)",
   "language": "python",
   "name": "python3"
  },
  "language_info": {
   "codemirror_mode": {
    "name": "ipython",
    "version": 3
   },
   "file_extension": ".py",
   "mimetype": "text/x-python",
   "name": "python",
   "nbconvert_exporter": "python",
   "pygments_lexer": "ipython3",
   "version": "3.12.7"
  }
 },
 "nbformat": 4,
 "nbformat_minor": 5
}
