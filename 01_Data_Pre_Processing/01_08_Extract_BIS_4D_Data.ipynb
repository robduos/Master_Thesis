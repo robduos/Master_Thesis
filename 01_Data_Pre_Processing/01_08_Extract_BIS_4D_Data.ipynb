{
 "cells": [
  {
   "cell_type": "markdown",
   "id": "7867328d-e1ac-46f4-a262-5bc9f885392b",
   "metadata": {},
   "source": [
    "Script Description: This script extracts all variables avaiable from the BIS-4D datasets for the NOBV locations into one CSV file.\n",
    "\n",
    "File Name: 01_08_Extract_BIS_4D_Data.ipynb\n",
    "\n",
    "Date: 2025\n",
    "\n",
    "Created by: Rob Alamgir\n",
    "\n",
    "Version: 1.0\n",
    "\n",
    "References:"
   ]
  },
  {
   "cell_type": "markdown",
   "id": "3f223a29-0790-4dc7-9858-67e1ec35b55d",
   "metadata": {},
   "source": [
    "#### Import the relevant packages"
   ]
  },
  {
   "cell_type": "code",
   "execution_count": 1,
   "id": "e8edb1a5-4d58-4594-9110-9c737eca7e55",
   "metadata": {},
   "outputs": [],
   "source": [
    "import os\n",
    "import glob\n",
    "import rasterio\n",
    "import geopandas as gpd\n",
    "import pandas as pd\n",
    "from rasterio.transform import rowcol"
   ]
  },
  {
   "cell_type": "markdown",
   "id": "8bc9fa5e-4694-4ba9-b2d7-e4eefbe4f0e1",
   "metadata": {},
   "source": [
    "#### Import the relevant data files"
   ]
  },
  {
   "cell_type": "code",
   "execution_count": 5,
   "id": "756f394c-7f29-4918-b4a7-65573b49c2f2",
   "metadata": {},
   "outputs": [
    {
     "data": {
      "text/html": [
       "<div>\n",
       "<style scoped>\n",
       "    .dataframe tbody tr th:only-of-type {\n",
       "        vertical-align: middle;\n",
       "    }\n",
       "\n",
       "    .dataframe tbody tr th {\n",
       "        vertical-align: top;\n",
       "    }\n",
       "\n",
       "    .dataframe thead th {\n",
       "        text-align: right;\n",
       "    }\n",
       "</style>\n",
       "<table border=\"1\" class=\"dataframe\">\n",
       "  <thead>\n",
       "    <tr style=\"text-align: right;\">\n",
       "      <th></th>\n",
       "      <th>Site_no</th>\n",
       "      <th>Location_No</th>\n",
       "      <th>Site_ID</th>\n",
       "      <th>EPSG_4326_WGS_84_Longitude_X</th>\n",
       "      <th>EPSG_4326_WGS_84_Latitude_Y</th>\n",
       "      <th>EPSG_32631_WGS 84_X_m</th>\n",
       "      <th>EPSG_32631_WGS 84_Y_m</th>\n",
       "      <th>Elevation_m</th>\n",
       "    </tr>\n",
       "  </thead>\n",
       "  <tbody>\n",
       "    <tr>\n",
       "      <th>0</th>\n",
       "      <td>1</td>\n",
       "      <td>1</td>\n",
       "      <td>ALB_MS</td>\n",
       "      <td>5.902334</td>\n",
       "      <td>53.053560</td>\n",
       "      <td>694512.5721</td>\n",
       "      <td>5882167.358</td>\n",
       "      <td>1.1</td>\n",
       "    </tr>\n",
       "    <tr>\n",
       "      <th>1</th>\n",
       "      <td>2</td>\n",
       "      <td>1</td>\n",
       "      <td>ALB_RF</td>\n",
       "      <td>5.904631</td>\n",
       "      <td>53.053385</td>\n",
       "      <td>694667.2798</td>\n",
       "      <td>5882154.181</td>\n",
       "      <td>1.1</td>\n",
       "    </tr>\n",
       "    <tr>\n",
       "      <th>2</th>\n",
       "      <td>3</td>\n",
       "      <td>2</td>\n",
       "      <td>AMM</td>\n",
       "      <td>5.903505</td>\n",
       "      <td>53.031374</td>\n",
       "      <td>694691.0225</td>\n",
       "      <td>5879703.421</td>\n",
       "      <td>1.1</td>\n",
       "    </tr>\n",
       "    <tr>\n",
       "      <th>3</th>\n",
       "      <td>4</td>\n",
       "      <td>2</td>\n",
       "      <td>AMR</td>\n",
       "      <td>5.902991</td>\n",
       "      <td>53.032245</td>\n",
       "      <td>694652.6416</td>\n",
       "      <td>5879798.861</td>\n",
       "      <td>1.1</td>\n",
       "    </tr>\n",
       "    <tr>\n",
       "      <th>4</th>\n",
       "      <td>5</td>\n",
       "      <td>3</td>\n",
       "      <td>ANK_PT</td>\n",
       "      <td>5.097471</td>\n",
       "      <td>52.253916</td>\n",
       "      <td>643168.4419</td>\n",
       "      <td>5791352.667</td>\n",
       "      <td>-1.4</td>\n",
       "    </tr>\n",
       "  </tbody>\n",
       "</table>\n",
       "</div>"
      ],
      "text/plain": [
       "   Site_no  Location_No Site_ID  EPSG_4326_WGS_84_Longitude_X  \\\n",
       "0        1            1  ALB_MS                      5.902334   \n",
       "1        2            1  ALB_RF                      5.904631   \n",
       "2        3            2     AMM                      5.903505   \n",
       "3        4            2     AMR                      5.902991   \n",
       "4        5            3  ANK_PT                      5.097471   \n",
       "\n",
       "   EPSG_4326_WGS_84_Latitude_Y  EPSG_32631_WGS 84_X_m  EPSG_32631_WGS 84_Y_m  \\\n",
       "0                    53.053560            694512.5721            5882167.358   \n",
       "1                    53.053385            694667.2798            5882154.181   \n",
       "2                    53.031374            694691.0225            5879703.421   \n",
       "3                    53.032245            694652.6416            5879798.861   \n",
       "4                    52.253916            643168.4419            5791352.667   \n",
       "\n",
       "   Elevation_m  \n",
       "0          1.1  \n",
       "1          1.1  \n",
       "2          1.1  \n",
       "3          1.1  \n",
       "4         -1.4  "
      ]
     },
     "execution_count": 5,
     "metadata": {},
     "output_type": "execute_result"
    }
   ],
   "source": [
    "data_dir = \"C:/Data_MSc_Thesis/BIS_4D_Selected/\"\n",
    "tif_files = glob.glob(os.path.join(data_dir, \"*.tif\"))\n",
    "\n",
    "point_data_path = \"C:/Data_MSc_Thesis/NOBV_Site_Data/NOBV_EC_Tower_Data_Final.csv\"\n",
    "point_data = pd.read_csv(point_data_path)\n",
    "point_data.head()"
   ]
  },
  {
   "cell_type": "code",
   "execution_count": 4,
   "id": "f478cc2e-a854-4041-9a2d-40e0584d89ed",
   "metadata": {},
   "outputs": [
    {
     "data": {
      "text/plain": [
       "['C:/Data_MSc_Thesis/BIS_4D_Selected\\\\BD_gcm3_d_0_5_QRF_pred_mean.tif',\n",
       " 'C:/Data_MSc_Thesis/BIS_4D_Selected\\\\BD_gcm3_d_5_15_QRF_pred_mean.tif',\n",
       " 'C:/Data_MSc_Thesis/BIS_4D_Selected\\\\clay_per_d_0_5_QRF_pred_mean_processed.tif',\n",
       " 'C:/Data_MSc_Thesis/BIS_4D_Selected\\\\clay_per_d_5_15_QRF_pred_mean_processed.tif',\n",
       " 'C:/Data_MSc_Thesis/BIS_4D_Selected\\\\sand_per_d_0_5_QRF_pred_mean_processed.tif',\n",
       " 'C:/Data_MSc_Thesis/BIS_4D_Selected\\\\sand_per_d_5_15_QRF_pred_mean_processed.tif',\n",
       " 'C:/Data_MSc_Thesis/BIS_4D_Selected\\\\silt_per_d_0_5_QRF_pred_mean_processed.tif',\n",
       " 'C:/Data_MSc_Thesis/BIS_4D_Selected\\\\silt_per_d_5_15_QRF_pred_mean_processed.tif',\n",
       " 'C:/Data_MSc_Thesis/BIS_4D_Selected\\\\SOM_per_2020_d_0_5_QRF_pred_mean.tif',\n",
       " 'C:/Data_MSc_Thesis/BIS_4D_Selected\\\\SOM_per_2020_d_5_15_QRF_pred_mean.tif',\n",
       " 'C:/Data_MSc_Thesis/BIS_4D_Selected\\\\SOM_per_2023_d_0_5_QRF_pred_mean.tif',\n",
       " 'C:/Data_MSc_Thesis/BIS_4D_Selected\\\\SOM_per_2023_d_5_15_QRF_pred_mean.tif']"
      ]
     },
     "execution_count": 4,
     "metadata": {},
     "output_type": "execute_result"
    }
   ],
   "source": [
    "tif_files  # List all .tif files in the directory"
   ]
  },
  {
   "cell_type": "markdown",
   "id": "86b219fa-8f21-476e-84a4-675345da10a4",
   "metadata": {},
   "source": [
    "#### Pre-process the datasets"
   ]
  },
  {
   "cell_type": "code",
   "execution_count": 6,
   "id": "c5abc2c9-2b83-4a52-90bc-02aa7fabf3b6",
   "metadata": {},
   "outputs": [
    {
     "name": "stdout",
     "output_type": "stream",
     "text": [
      "<class 'geopandas.geodataframe.GeoDataFrame'>\n",
      "RangeIndex: 21 entries, 0 to 20\n",
      "Data columns (total 11 columns):\n",
      " #   Column                 Non-Null Count  Dtype   \n",
      "---  ------                 --------------  -----   \n",
      " 0   Site_no                21 non-null     int64   \n",
      " 1   Location_No            21 non-null     int64   \n",
      " 2   Site_ID                21 non-null     object  \n",
      " 3   Longitude              21 non-null     float64 \n",
      " 4   Latitude               21 non-null     float64 \n",
      " 5   EPSG_32631_WGS 84_X_m  21 non-null     float64 \n",
      " 6   EPSG_32631_WGS 84_Y_m  21 non-null     float64 \n",
      " 7   Elevation_m            21 non-null     float64 \n",
      " 8   geometry               21 non-null     geometry\n",
      " 9   Reproj_X               21 non-null     float64 \n",
      " 10  Reproj_Y               21 non-null     float64 \n",
      "dtypes: float64(7), geometry(1), int64(2), object(1)\n",
      "memory usage: 1.9+ KB\n"
     ]
    }
   ],
   "source": [
    "point_data.rename(columns={\"EPSG_4326_WGS_84_Longitude_X\": \"Longitude\",\n",
    "                           \"EPSG_4326_WGS_84_Latitude_Y\": \"Latitude\"}, inplace=True)\n",
    "\n",
    "# Convert dataframe to a GeoDataFrame\n",
    "gdf = gpd.GeoDataFrame(point_data, geometry=gpd.points_from_xy(point_data.Longitude, point_data.Latitude), crs=\"EPSG:4326\")\n",
    "gdf = gdf.to_crs(\"EPSG:28992\")   # Reproject to match raster CRS (EPSG:28992)\n",
    "\n",
    "# Extract reprojected coordinates\n",
    "gdf[\"Reproj_X\"] = gdf.geometry.x\n",
    "gdf[\"Reproj_Y\"] = gdf.geometry.y\n",
    "\n",
    "gdf.info()\n",
    "#gdf.head(12)"
   ]
  },
  {
   "cell_type": "markdown",
   "id": "8c0466dd-7134-4579-9507-224c0d2cf146",
   "metadata": {},
   "source": [
    "#### Loop through each raster and extract values"
   ]
  },
  {
   "cell_type": "code",
   "execution_count": 7,
   "id": "11ebd706-be40-4584-a437-229d61502098",
   "metadata": {},
   "outputs": [],
   "source": [
    "# Function to extract raster values at given coordinates\n",
    "def extract_raster_values(raster_path, points_gdf):\n",
    "    with rasterio.open(raster_path) as src:\n",
    "        coords = [(x, y) for x, y in zip(points_gdf[\"Reproj_X\"], points_gdf[\"Reproj_Y\"])]\n",
    "        values = [val[0] if val else None for val in src.sample(coords)]\n",
    "    return values\n",
    "\n",
    "for tif_file in tif_files:\n",
    "    raster_name = os.path.basename(tif_file).replace('.tif', '')\n",
    "    gdf[f\"{raster_name}_values\"] = extract_raster_values(tif_file, gdf)"
   ]
  },
  {
   "cell_type": "code",
   "execution_count": 8,
   "id": "7afe48fa-7ac3-4426-b2b5-e54c2db883a7",
   "metadata": {},
   "outputs": [],
   "source": [
    "# Define column renaming dictionary\n",
    "rename_dict = {\n",
    "    \"BD_gcm3_d_0_5_QRF_pred_mean_values\": \"BD_0_5\",\n",
    "    \"BD_gcm3_d_5_15_QRF_pred_mean_values\": \"BD_5_15\",\n",
    "    \"clay_per_d_0_5_QRF_pred_mean_processed_values\": \"Clay_0_5\",\n",
    "    \"clay_per_d_5_15_QRF_pred_mean_processed_values\": \"Clay_5_15\",\n",
    "    \"SOM_per_2020_d_0_5_QRF_pred_mean_values\": \"SOM_2020_0_5\",\n",
    "    \"SOM_per_2020_d_5_15_QRF_pred_mean_values\": \"SOM_2020_5_15\",\n",
    "    \"SOM_per_2023_d_0_5_QRF_pred_mean_values\": \"SOM_2023_0_5\",\n",
    "    \"SOM_per_2023_d_5_15_QRF_pred_mean_values\": \"SOM_2023_5_15\",\n",
    "    \"sand_per_d_0_5_QRF_pred_mean_processed_values\": \"Sand_0_5\",\n",
    "    \"sand_per_d_5_15_QRF_pred_mean_processed_values\": \"Sand_5_15\",\n",
    "    \"silt_per_d_0_5_QRF_pred_mean_processed_values\": \"Silt_0_5\",\n",
    "    \"silt_per_d_5_15_QRF_pred_mean_processed_values\": \"Silt_5_15\"\n",
    "}\n",
    "\n",
    "gdf.rename(columns=rename_dict, inplace=True)   # Rename columns in the GeoDataFrame\n",
    "gdf.drop(columns=[\"geometry\", ], inplace=True)"
   ]
  },
  {
   "cell_type": "code",
   "execution_count": 9,
   "id": "728eddb8-6cf9-4c5c-9c62-0428e7969e51",
   "metadata": {},
   "outputs": [
    {
     "name": "stdout",
     "output_type": "stream",
     "text": [
      "<class 'geopandas.geodataframe.GeoDataFrame'>\n",
      "RangeIndex: 21 entries, 0 to 20\n",
      "Data columns (total 22 columns):\n",
      " #   Column                 Non-Null Count  Dtype  \n",
      "---  ------                 --------------  -----  \n",
      " 0   Site_no                21 non-null     int64  \n",
      " 1   Location_No            21 non-null     int64  \n",
      " 2   Site_ID                21 non-null     object \n",
      " 3   Longitude              21 non-null     float64\n",
      " 4   Latitude               21 non-null     float64\n",
      " 5   EPSG_32631_WGS 84_X_m  21 non-null     float64\n",
      " 6   EPSG_32631_WGS 84_Y_m  21 non-null     float64\n",
      " 7   Elevation_m            21 non-null     float64\n",
      " 8   Reproj_X               21 non-null     float64\n",
      " 9   Reproj_Y               21 non-null     float64\n",
      " 10  BD_0_5                 21 non-null     float32\n",
      " 11  BD_5_15                21 non-null     float32\n",
      " 12  Clay_0_5               21 non-null     float32\n",
      " 13  Clay_5_15              21 non-null     float32\n",
      " 14  Sand_0_5               21 non-null     float32\n",
      " 15  Sand_5_15              21 non-null     float32\n",
      " 16  Silt_0_5               21 non-null     float32\n",
      " 17  Silt_5_15              21 non-null     float32\n",
      " 18  SOM_2020_0_5           21 non-null     float32\n",
      " 19  SOM_2020_5_15          21 non-null     float32\n",
      " 20  SOM_2023_0_5           21 non-null     float32\n",
      " 21  SOM_2023_5_15          21 non-null     float32\n",
      "dtypes: float32(12), float64(7), int64(2), object(1)\n",
      "memory usage: 2.8+ KB\n"
     ]
    }
   ],
   "source": [
    "gdf.info()\n",
    "#gdf.head(12)"
   ]
  },
  {
   "cell_type": "markdown",
   "id": "8af06603-77c7-4787-a6b6-75c4eb07b6d9",
   "metadata": {},
   "source": [
    "#### Export the final dataframe"
   ]
  },
  {
   "cell_type": "code",
   "execution_count": 10,
   "id": "f4b2ee3c-d290-439f-8d2a-9617af2ca4b3",
   "metadata": {},
   "outputs": [
    {
     "name": "stdout",
     "output_type": "stream",
     "text": [
      "Data has been successfully exported to 'C:/Data_MSc_Thesis/BIS_4D_Selected/NOBV_Point_Data_Extracted_V1.csv'\n"
     ]
    }
   ],
   "source": [
    "output_path = \"C:/Data_MSc_Thesis/BIS_4D_Selected/NOBV_Point_Data_Extracted_V1.csv\"\n",
    "gdf.to_csv(output_path, index=False)\n",
    "\n",
    "print(f\"Data has been successfully exported to '{output_path}'\")"
   ]
  }
 ],
 "metadata": {
  "kernelspec": {
   "display_name": "Python 3 (ipykernel)",
   "language": "python",
   "name": "python3"
  },
  "language_info": {
   "codemirror_mode": {
    "name": "ipython",
    "version": 3
   },
   "file_extension": ".py",
   "mimetype": "text/x-python",
   "name": "python",
   "nbconvert_exporter": "python",
   "pygments_lexer": "ipython3",
   "version": "3.12.7"
  }
 },
 "nbformat": 4,
 "nbformat_minor": 5
}
