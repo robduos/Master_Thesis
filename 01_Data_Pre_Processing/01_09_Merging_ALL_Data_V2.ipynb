{
 "cells": [
  {
   "cell_type": "code",
   "execution_count": 2,
   "id": "51bae940-0b25-4b23-872d-40b64e35c68d",
   "metadata": {},
   "outputs": [],
   "source": [
    "import matplotlib.pyplot as plt\n",
    "import pandas as pd\n",
    "import numpy as np"
   ]
  },
  {
   "cell_type": "markdown",
   "id": "78422194-da73-44a2-a981-c497b049de62",
   "metadata": {},
   "source": [
    "#### Import Relevant Data"
   ]
  },
  {
   "cell_type": "code",
   "execution_count": 58,
   "id": "bde05ba0-9b86-415e-be53-5f245f2f0477",
   "metadata": {},
   "outputs": [],
   "source": [
    "# Load preprocessed Dataset\n",
    "Complete_Data = pd.read_csv(\"C:/Data_MSc_Thesis/Pre_Processed_Data/Pre_Processed_Data_All_Locaions_Updated_2.csv\")\n",
    "\n",
    "# Convert 'Date' column to datetime format and encode 'Source' as numeric codes\n",
    "Complete_Data['Date'] = pd.to_datetime(Complete_Data['Date'], format='%Y-%m-%d')\n",
    "\n",
    "#print(Complete_Data.head(10))\n",
    "#print(Complete_Data.describe())\n",
    "#print(Complete_Data.columns)\n",
    "#print(Complete_Data.dtypes) # Check the structure of all columns (data types)\n",
    "\n",
    "# Load preprocessed Dataset\n",
    "PET_ET0_Data = pd.read_csv(\"C:/Data_MSc_Thesis/Pre_Processed_Data/Computed_PET_ET0.csv\")\n",
    "\n",
    "# Convert 'Date' column to datetime format and encode 'Source' as numeric codes\n",
    "PET_ET0_Data['Date'] = pd.to_datetime(PET_ET0_Data['Date'], format='%Y-%m-%d')\n",
    "\n",
    "#print(PET_ET0_Data.head(10))\n",
    "#print(PET_ET0_Data.describe())\n",
    "#print(PET_ET0_Data.columns)\n",
    "#print(PET_ET0_Data.dtypes)   # Check the structure of all columns (data types)\n",
    "\n",
    "# Load preprocessed Dataset\n",
    "BIS_4D_Data = pd.read_csv(\"C:/Data_MSc_Thesis/BIS_4D_Selected/NOBV_Point_Data_Extracted.csv\")\n",
    "\n",
    "#print(BIS_4D_Data.head(10))\n",
    "#print(BIS_4D_Data.describe())\n",
    "#print(BIS_4D_Data.columns)\n",
    "#print(BIS_4D_Data.dtypes)   # Check the structure of all columns (data types)\n",
    "\n",
    "# Load preprocessed Dataset\n",
    "BOFEK_Data = pd.read_csv(\"C:/Data_MSc_Thesis/BOFEK/BOFEK_NOBV.csv\")\n",
    "\n",
    "#print(BIS_4D_Data.head(10))\n",
    "#print(BIS_4D_Data.describe())\n",
    "#print(BOFEK_Data.columns)\n",
    "#print(BIS_4D_Data.dtypes)  # Check the structure of all columns (data types)"
   ]
  },
  {
   "cell_type": "markdown",
   "id": "105228aa-537d-41c0-8ae6-39e27ca49824",
   "metadata": {},
   "source": [
    "####  Merge PET & ET0 to Complete_Data"
   ]
  },
  {
   "cell_type": "code",
   "execution_count": 44,
   "id": "d4d429c3-2bb8-445b-8cc3-aa6bf06abb00",
   "metadata": {},
   "outputs": [
    {
     "name": "stderr",
     "output_type": "stream",
     "text": [
      "C:\\Users\\robdu\\AppData\\Local\\Temp\\ipykernel_13816\\2329939006.py:7: SettingWithCopyWarning: \n",
      "A value is trying to be set on a copy of a slice from a DataFrame\n",
      "\n",
      "See the caveats in the documentation: https://pandas.pydata.org/pandas-docs/stable/user_guide/indexing.html#returning-a-view-versus-a-copy\n",
      "  pet_et0_subset.rename(columns={'Site_ID': 'Source'}, inplace=True)\n"
     ]
    }
   ],
   "source": [
    "# Select only the necessary columns from PET_ET0_Data\n",
    "pet_et0_subset = PET_ET0_Data[['Date', 'Site_ID', 'PET', 'ET0']]\n",
    "#print(pet_et0_subset.head(10))\n",
    "#print(pet_et0_subset.dtypes)\n",
    "\n",
    "# Rename the 'Site_ID' column to 'Source' in pet_et0_subset\n",
    "pet_et0_subset.rename(columns={'Site_ID': 'Source'}, inplace=True)\n",
    "\n",
    "# Merge with Complete_Data on 'Date' and 'Source'\n",
    "merged_df = pd.merge(Complete_Data, pet_et0_subset, on=['Date', 'Source'], how='left')  # Adjust 'how' as needed\n",
    "\n",
    "# Print the resulting dataframe to verify\n",
    "#print(merged_df.head(10))\n",
    "#print(merged_df.describe())\n",
    "#print(merged_df.columns)\n",
    "#print(merged_df.dtypes)  # Check the structure of all columns (data types)"
   ]
  },
  {
   "cell_type": "markdown",
   "id": "1ed6c21b-53fc-420a-afea-7847b567ecd7",
   "metadata": {},
   "source": [
    "#### Merge BIS_4D_Data to merged_df "
   ]
  },
  {
   "cell_type": "code",
   "execution_count": 51,
   "id": "7f4c7895-5e36-41d0-ab60-6282f0919076",
   "metadata": {},
   "outputs": [],
   "source": [
    "# Rename 'Site_ID' to 'Source' in BIS_4D_Data\n",
    "BIS_4D_Data.rename(columns={'Site_ID': 'Source'}, inplace=True)\n",
    "\n",
    "# Select only the required columns from BIS_4D_Data\n",
    "bis_4d_subset = BIS_4D_Data[['Source', 'BD_0_5_values', 'BD_5_15_values', 'Clay_0_5_values',\n",
    "                              'Clay_5_15_values', 'SOM_2020_0_5_values', 'SOM_2020_5_15_values',\n",
    "                              'SOM_2023_0_5_values', 'SOM_2023_5_15_values']]\n",
    "\n",
    "# Merge with merged_df on 'Source' column using a left join\n",
    "merged_df_v1 = pd.merge(merged_df, bis_4d_subset, on='Source', how='left')\n",
    "\n",
    "# Print the resulting dataframe to verify\n",
    "#print(merged_df_v1.head())\n",
    "#print(merged_df_v1.tail(15))\n",
    "#print(merged_df_v1.describe())\n",
    "#print(merged_df_v1.columns)\n",
    "#print(merged_df_v1.dtypes)  # Check the structure of all columns (data types)"
   ]
  },
  {
   "cell_type": "markdown",
   "id": "6e6478b1-e158-43e1-a33a-3cb486bf445a",
   "metadata": {},
   "source": [
    "#### Merge BIS_4D_Data to BOFEK_Data"
   ]
  },
  {
   "cell_type": "code",
   "execution_count": 62,
   "id": "b0199cce-af51-4092-9e03-740f04ddf683",
   "metadata": {},
   "outputs": [],
   "source": [
    "# Rename 'Site_ID' to 'Source' in BOFEK_Data\n",
    "BOFEK_Data.rename(columns={'Site_ID': 'Source'}, inplace=True)\n",
    "\n",
    "# Select only the required columns from BIS_4D_Data\n",
    "BOFEK_Data_subset = BOFEK_Data[['Source', 'BOFEK_2020_Physical Units',\n",
    "                                'BOFEK_2020_PU_Description','Peat_Thickness_2022']]\n",
    "\n",
    "# Merge with merged_df on 'Source' column using a left join\n",
    "merged_df_v2 = pd.merge(merged_df_v1, BOFEK_Data_subset, on='Source', how='left')\n",
    "\n",
    "# Print the resulting dataframe to verify\n",
    "#print(merged_df_v2.head())\n",
    "#print(merged_df_v2.tail(30))\n",
    "#print(merged_df_v2.describe())\n",
    "#print(merged_df_v2.columns)\n",
    "#print(merged_df_v2.dtypes)  # Check the structure of all columns (data types)"
   ]
  },
  {
   "cell_type": "code",
   "execution_count": 65,
   "id": "765057ba-18d5-4580-b231-aa1d041bf23a",
   "metadata": {},
   "outputs": [
    {
     "name": "stdout",
     "output_type": "stream",
     "text": [
      "DataFrame successfully saved to C:/Data_MSc_Thesis/Pre_Processed_Data/Pre_Processed_Data_All_Locations_Updated_3.csv\n"
     ]
    }
   ],
   "source": [
    "# Export the final dataframe to a CSV file\n",
    "output_path = \"C:/Data_MSc_Thesis/Pre_Processed_Data/Pre_Processed_Data_All_Locations_Updated_3.csv\"  # Update the path as needed\n",
    "merged_df_v2.to_csv(output_path, index=False)\n",
    "\n",
    "print(f\"DataFrame successfully saved to {output_path}\")"
   ]
  }
 ],
 "metadata": {
  "kernelspec": {
   "display_name": "Python 3 (ipykernel)",
   "language": "python",
   "name": "python3"
  },
  "language_info": {
   "codemirror_mode": {
    "name": "ipython",
    "version": 3
   },
   "file_extension": ".py",
   "mimetype": "text/x-python",
   "name": "python",
   "nbconvert_exporter": "python",
   "pygments_lexer": "ipython3",
   "version": "3.12.7"
  }
 },
 "nbformat": 4,
 "nbformat_minor": 5
}
