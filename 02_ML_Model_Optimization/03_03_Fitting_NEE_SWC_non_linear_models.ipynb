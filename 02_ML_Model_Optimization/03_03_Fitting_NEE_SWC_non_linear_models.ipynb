{
 "cells": [
  {
   "cell_type": "markdown",
   "id": "1abfcb6c-4460-415b-bab8-5bd030ea9793",
   "metadata": {},
   "source": [
    "Script Description This script loads a pre-processed dataset,\n",
    "\n",
    "File Name: 03_03_Fitting_NEE_SWC_non_linear_bell.ipynb\n",
    "\n",
    "Date: 2025\n",
    "\n",
    "Created by: Rob Alamgir\n",
    "\n",
    "Version: 1.0\n",
    "\n",
    "References:"
   ]
  },
  {
   "cell_type": "markdown",
   "id": "ec106459-47d0-4068-b84b-39dafe04ab6f",
   "metadata": {},
   "source": [
    "#### Import the relevant packages"
   ]
  },
  {
   "cell_type": "code",
   "execution_count": null,
   "id": "3e1974d3-5fe4-4844-b4b1-5208e1a9b84a",
   "metadata": {},
   "outputs": [],
   "source": [
    "import numpy as np\n",
    "import pandas as pd\n",
    "import matplotlib.pyplot as plt\n",
    "from scipy.optimize import curve_fit\n",
    "from scipy.stats import norm\n",
    "from itertools import product"
   ]
  },
  {
   "cell_type": "markdown",
   "id": "5502a3d0-d19f-4bcc-844a-ff9f5f4bd5fc",
   "metadata": {},
   "source": [
    "### Step 1: Load and preprocess data"
   ]
  },
  {
   "cell_type": "code",
   "execution_count": null,
   "id": "4ba100a8-0bd7-4eb4-aa9c-a23dc667d5d8",
   "metadata": {},
   "outputs": [],
   "source": [
    "#Load and preprocess data\n",
    "data_path = \"C:/Data_MSc_Thesis/Pre_Processed_Data/Pre_Processed_Data_All_Locations_Updated_.csv\"\n",
    "complete_dataset = pd.read_csv(data_path)\n",
    "complete_dataset['Date'] = pd.to_datetime(complete_dataset['Date'], format='%Y-%m-%d')\n",
    "print(f\"Rows and columns before removing NaNs: {complete_dataset.shape}\")"
   ]
  },
  {
   "cell_type": "code",
   "execution_count": null,
   "id": "15549873-25a3-4ee2-ac58-9138ba1b1c92",
   "metadata": {},
   "outputs": [],
   "source": [
    "filtered_df = complete_dataset.dropna(subset=['SWCT_1_015','Planet_SWC', 'NEE_CO2_kg_day_ha_DAv_NT', \n",
    "                                              'GPP_CO2_kg_day_ha_DAv_NT', 'STMP_1_015','ATMP_f'], how='any').copy()\n",
    "print(f\"Rows and columns after removing NaNs: {filtered_df.shape}\")\n",
    "\n",
    "# Define independent variables and target\n",
    "X_data_1 = (filtered_df['GPP_CO2_kg_day_ha_DAv_NT'].values, \n",
    "            filtered_df['Planet_SWC'].values, \n",
    "            filtered_df['ATMP_f'].values)\n",
    "\n",
    "X_data_3 = (filtered_df['GPP_CO2_kg_day_ha_DAv_NT'].values, \n",
    "            filtered_df['Planet_SWC'].values, \n",
    "            filtered_df['ATMP_f'].values,\n",
    "            filtered_df['STMP_1_015'].values)  # T_soil for model 3\n",
    "\n",
    "y_data = filtered_df['NEE_CO2_kg_day_ha_DAv_NT'].values"
   ]
  },
  {
   "cell_type": "markdown",
   "id": "ecac689e-cfda-4403-83e1-c9a92e452782",
   "metadata": {},
   "source": [
    "### Step 2: Define Models"
   ]
  },
  {
   "cell_type": "markdown",
   "id": "7cf98ab0-2ad5-4047-8016-f7bdaa0be082",
   "metadata": {},
   "source": [
    "#### Model Option 1: Sigmoid Dependence with VSM instead of WL"
   ]
  },
  {
   "cell_type": "code",
   "execution_count": null,
   "id": "79a3bfb5-12ec-4c7e-b632-432bbe6be875",
   "metadata": {},
   "outputs": [],
   "source": [
    "def model_1(X, alpha, beta, gamma, delta):\n",
    "    \"\"\" NEE_CO2_night = α * GPP + β / (1 + exp(γ * VSM)) * exp(δ * T_air) \"\"\"\n",
    "    GPP, VSM, T_air = X\n",
    "    return alpha * GPP + (beta / (1 + np.exp(gamma * VSM))) * np.exp(delta * T_air)"
   ]
  },
  {
   "cell_type": "markdown",
   "id": "19388c18-cbbc-44fb-8afa-cdd080603d54",
   "metadata": {},
   "source": [
    "#### Model Option 2: Bell curve based on the Gaussian distribution function"
   ]
  },
  {
   "cell_type": "code",
   "execution_count": 1,
   "id": "86c6ccd4-e497-41a7-8834-3865409b3b3e",
   "metadata": {},
   "outputs": [],
   "source": [
    "def model_2(X, alpha, beta, gamma, delta, epsilon):\n",
    "    \"\"\" NEE_CO2_night = α * GPP + β * exp(-0.5 * ((VSM - γ) / δ)²) * exp(ε * T_air) \"\"\"\n",
    "    GPP, VSM, T_air = X\n",
    "    return alpha * GPP + beta * np.exp(-0.5 * ((VSM - gamma) / delta)**2) * np.exp(epsilon * T_air)"
   ]
  },
  {
   "attachments": {},
   "cell_type": "markdown",
   "id": "2282af0a-7224-4140-ac0f-83d4a96f5362",
   "metadata": {},
   "source": [
    "#### Model Option 3: Sigmoid Dependence with VSM and other additional parameters & exponents"
   ]
  },
  {
   "cell_type": "code",
   "execution_count": null,
   "id": "e8686943-7d9a-40f3-a13f-2d3dea049034",
   "metadata": {},
   "outputs": [],
   "source": [
    "def model_3(X, alpha, beta, gamma, delta, v):\n",
    "    \"\"\" NEE_CO2_night = α * GPP * exp(β * T_air) + δ / (1 + exp(γ * VSM)) * exp(v * T_soil) \"\"\"\n",
    "    GPP, VSM, T_air, T_soil = X\n",
    "    return alpha * GPP * np.exp(beta * T_air) + (delta / (1 + np.exp(gamma * VSM))) * np.exp(v * T_soil)"
   ]
  },
  {
   "cell_type": "markdown",
   "id": "564bb299-b829-47d9-8f58-57b9ffc16096",
   "metadata": {},
   "source": [
    "### Step 3: Define Grid Search & AIC Calculation"
   ]
  },
  {
   "cell_type": "code",
   "execution_count": null,
   "id": "347b9f1a-4d4d-46ee-8936-2f9137b0f32c",
   "metadata": {},
   "outputs": [],
   "source": [
    "# Function to compute AIC\n",
    "def calculate_aic(y_true, y_pred, num_params):\n",
    "    residual = y_true - y_pred\n",
    "    rss = np.sum(residual**2)\n",
    "    n = len(y_true)\n",
    "    aic = n * np.log(rss / n) + 2 * num_params\n",
    "    return aic\n",
    "\n",
    "# Fit model with multiple starting values (grid search)\n",
    "def fit_model_with_grid_search(model, X_data, y_data, param_grid):\n",
    "    best_aic = np.inf\n",
    "    best_params = None\n",
    "    best_y_pred = None\n",
    "\n",
    "    for initial_guess in param_grid:\n",
    "        try:\n",
    "            popt, _ = curve_fit(model, X_data, y_data, p0=initial_guess, maxfev=20000)\n",
    "            y_pred = model(X_data, *popt)\n",
    "            aic_score = calculate_aic(y_data, y_pred, len(popt))\n",
    "\n",
    "            if aic_score < best_aic:\n",
    "                best_aic = aic_score\n",
    "                best_params = popt\n",
    "                best_y_pred = y_pred\n",
    "        except RuntimeError:\n",
    "            continue  # Skip failed fits\n",
    "\n",
    "    return best_params, best_aic, best_y_pred"
   ]
  },
  {
   "cell_type": "code",
   "execution_count": null,
   "id": "1a73057c-d1b0-449a-97d6-29093d39009d",
   "metadata": {},
   "outputs": [],
   "source": [
    "# Define parameter grid (ranges for α, β, γ, δ, ε, v)\n",
    "param_grid_1 = list(product(np.linspace(0, 2, 5),  # alpha\n",
    "                            np.linspace(0, 2, 5),  # beta\n",
    "                            np.linspace(-2, 2, 5),  # gamma\n",
    "                            np.linspace(0, 1, 5)))  # delta\n",
    "\n",
    "param_grid_2 = list(product(np.linspace(0, 2, 5),  # alpha\n",
    "                            np.linspace(0, 2, 5),  # beta\n",
    "                            np.linspace(-2, 2, 5),  # gamma\n",
    "                            np.linspace(0, 1, 5),  # delta\n",
    "                            np.linspace(0, 1, 5)))  # epsilon\n",
    "\n",
    "param_grid_3 = list(product(np.linspace(0, 2, 5),  # alpha\n",
    "                            np.linspace(0, 1, 5),  # beta\n",
    "                            np.linspace(-2, 2, 5),  # gamma\n",
    "                            np.linspace(0, 1, 5),  # delta\n",
    "                            np.linspace(0, 1, 5)))  # v\n",
    "\n",
    "# Fit models using grid search\n",
    "popt_1, aic_1, y_pred_1 = fit_model_with_grid_search(model_1, X_data_1, y_data, param_grid_1)\n",
    "popt_2, aic_2, y_pred_2 = fit_model_with_grid_search(model_2, X_data_1, y_data, param_grid_2)\n",
    "popt_3, aic_3, y_pred_3 = fit_model_with_grid_search(model_3, X_data_3, y_data, param_grid_3)\n",
    "\n",
    "# Print results\n",
    "print(f\"Model 1 AIC: {aic_1}, Parameters: {popt_1}\")\n",
    "print(f\"Model 2 AIC: {aic_2}, Parameters: {popt_2}\")\n",
    "print(f\"Model 3 AIC: {aic_3}, Parameters: {popt_3}\")\n",
    "\n",
    "# Find best model\n",
    "best_model = min((aic_1, \"Model 1\"), (aic_2, \"Model 2\"), (aic_3, \"Model 3\"))\n",
    "print(f\"Best model: {best_model[1]} with AIC = {best_model[0]}\")"
   ]
  },
  {
   "cell_type": "markdown",
   "id": "47294e7a-2fa5-4a85-bed9-9969e9ed8209",
   "metadata": {},
   "source": [
    "#### Model Residuals and Goodness-of-Fit Check"
   ]
  },
  {
   "cell_type": "code",
   "execution_count": null,
   "id": "d766b648-35fd-4412-9b9d-9f849bd02c63",
   "metadata": {},
   "outputs": [],
   "source": [
    "# Plot residuals\n",
    "plt.figure(figsize=(12, 4))\n",
    "plt.subplot(1, 2, 1)\n",
    "plt.hist(y_data - y_pred_1, bins=20, alpha=0.5, label=\"Model 1\")\n",
    "plt.hist(y_data - y_pred_2, bins=20, alpha=0.5, label=\"Model 2\")\n",
    "plt.hist(y_data - y_pred_3, bins=20, alpha=0.5, label=\"Model 3\")\n",
    "plt.xlabel(\"Residuals\")\n",
    "plt.ylabel(\"Frequency\")\n",
    "plt.legend()\n",
    "plt.title(\"Residuals Distribution\")\n",
    "\n",
    "# Plot observed vs. predicted\n",
    "plt.subplot(1, 2, 2)\n",
    "plt.scatter(y_data, y_pred_1, alpha=0.5, label=\"Model 1\")\n",
    "plt.scatter(y_data, y_pred_2, alpha=0.5, label=\"Model 2\")\n",
    "plt.scatter(y_data, y_pred_3, alpha=0.5, label=\"Model 3\")\n",
    "plt.plot(y_data, y_data, 'k--')\n",
    "plt.xlabel(\"Observed\")\n",
    "plt.ylabel(\"Predicted\")\n",
    "plt.legend()\n",
    "plt.title(\"Observed vs. Predicted\")\n",
    "plt.show()"
   ]
  },
  {
   "cell_type": "code",
   "execution_count": null,
   "id": "a8acde1a-2f69-459e-a773-884971acfa22",
   "metadata": {},
   "outputs": [],
   "source": [
    "# Generate multiple starting values for grid search\n",
    "num_starts = 50  # Number of random initializations\n",
    "alpha_vals = np.random.uniform(-1, 1, num_starts)\n",
    "beta_vals = np.random.uniform(np.min(y_data), 0, num_starts)\n",
    "gamma_vals = np.random.uniform(np.min(df['VSM']), np.max(df['VSM']), num_starts)\n",
    "delta_vals = np.random.uniform(0.01, np.std(df['VSM']), num_starts)\n",
    "epsilon_vals = np.random.uniform(-0.1, 0.1, num_starts)\n",
    "\n",
    "# Function to calculate AIC\n",
    "def calculate_aic(n, residuals, num_params):\n",
    "    rss = np.sum(residuals ** 2)\n",
    "    return n * np.log(rss / n) + 2 * num_params\n",
    "\n",
    "best_params = None\n",
    "best_aic = np.inf\n",
    "\n",
    "# Grid search loop\n",
    "for alpha_init, beta_init, gamma_init, delta_init, epsilon_init in zip(alpha_vals, beta_vals, gamma_vals, delta_vals, epsilon_vals):\n",
    "    p0 = [alpha_init, beta_init, gamma_init, delta_init, epsilon_init]\n",
    "    try:\n",
    "        popt, _ = curve_fit(nee_night_model, X_data, y_data, p0=p0, maxfev=10000)\n",
    "        y_pred = nee_night_model(X_data, *popt)\n",
    "        aic = calculate_aic(len(y_data), y_data - y_pred, len(popt))\n",
    "        \n",
    "        if aic < best_aic:\n",
    "            best_aic = aic\n",
    "            best_params = popt\n",
    "    except:\n",
    "        continue  # Skip if fit fails\n",
    "\n",
    "# Extract best-fit parameters\n",
    "alpha_fit, beta_fit, gamma_fit, delta_fit, epsilon_fit = best_params\n",
    "print(f\"Best Fit Parameters (based on AIC):\\n alpha = {alpha_fit}\\n beta = {beta_fit}\\n gamma = {gamma_fit}\\n delta = {delta_fit}\\n epsilon = {epsilon_fit}\")\n",
    "\n",
    "# Calculate fitted values\n",
    "y_pred = nee_night_model(X_data, *best_params)"
   ]
  },
  {
   "cell_type": "code",
   "execution_count": null,
   "id": "7f673304-5939-4754-9b9c-ee14323e6804",
   "metadata": {},
   "outputs": [],
   "source": [
    "# Plot actual vs predicted values\n",
    "plt.scatter(y_data, y_pred, alpha=0.5)\n",
    "plt.xlabel(\"Actual NEE_CO2_night\")\n",
    "plt.ylabel(\"Predicted NEE_CO2_night\")\n",
    "plt.title(\"Model Fit: Actual vs Predicted\")\n",
    "plt.plot([min(y_data), max(y_data)], [min(y_data), max(y_data)], 'r--')  # 1:1 line\n",
    "plt.show()\n",
    "\n",
    "# Compute R-squared\n",
    "def r_squared(y_true, y_pred):\n",
    "    ss_res = np.sum((y_true - y_pred) ** 2)\n",
    "    ss_tot = np.sum((y_true - np.mean(y_true)) ** 2)\n",
    "    return 1 - (ss_res / ss_tot)\n",
    "\n",
    "r2 = r_squared(y_data, y_pred)\n",
    "print(f\"R-squared: {r2:.4f}\")"
   ]
  }
 ],
 "metadata": {
  "kernelspec": {
   "display_name": "Python 3 (ipykernel)",
   "language": "python",
   "name": "python3"
  },
  "language_info": {
   "codemirror_mode": {
    "name": "ipython",
    "version": 3
   },
   "file_extension": ".py",
   "mimetype": "text/x-python",
   "name": "python",
   "nbconvert_exporter": "python",
   "pygments_lexer": "ipython3",
   "version": "3.12.7"
  }
 },
 "nbformat": 4,
 "nbformat_minor": 5
}
