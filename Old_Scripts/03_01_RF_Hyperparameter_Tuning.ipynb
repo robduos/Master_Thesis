{
 "cells": [
  {
   "attachments": {},
   "cell_type": "markdown",
   "id": "76d247e6-bb3c-48b7-a173-d12d0e959d30",
   "metadata": {},
   "source": [
    "#### Script Description\n",
    "This script loads a pre-processed dataset, prepares features and target variables for predicting soil water content   (SWCT_015), and optimizes a RandomForestRegressor model using grouped cross-validation.\n",
    "\n",
    "*File Name:* 03_01_RF_Hyperparameter_Tuning.ipynb\n",
    "\n",
    "*Date:* 2024\n",
    "\n",
    "*Created by:* Rob Alamgir  \n",
    "\n",
    "*Version:* 1.0\n",
    "\n",
    "*References:*"
   ]
  },
  {
   "cell_type": "markdown",
   "id": "44b93da4-448b-4fe3-b45c-1bf3e05eda21",
   "metadata": {},
   "source": [
    "#### Import the relevant packages"
   ]
  },
  {
   "cell_type": "code",
   "execution_count": 3,
   "id": "2d05195b-1e30-458e-8ef9-56d854d7ea2f",
   "metadata": {},
   "outputs": [],
   "source": [
    "import matplotlib.pyplot as plt\n",
    "import pandas as pd\n",
    "import numpy as np\n",
    "import warnings\n",
    "from sklearn.model_selection import train_test_split, GridSearchCV, LeaveOneGroupOut\n",
    "from sklearn.ensemble import RandomForestRegressor\n",
    "from sklearn.pipeline import Pipeline\n",
    "from sklearn.metrics import mean_squared_error, mean_absolute_error, r2_score\n",
    "from sklearn.feature_selection import SequentialFeatureSelector\n",
    "from sklearn.exceptions import FitFailedWarning"
   ]
  },
  {
   "cell_type": "markdown",
   "id": "55893f2d-5b4f-492b-b6a3-74f7b0a80dcf",
   "metadata": {},
   "source": [
    "#### Step 1: Data Preprocessing "
   ]
  },
  {
   "cell_type": "code",
   "execution_count": 4,
   "id": "7dcec8d7-0db1-4332-a0f8-673055396e4d",
   "metadata": {},
   "outputs": [
    {
     "name": "stdout",
     "output_type": "stream",
     "text": [
      "Data shapes after NaN handling and splitting:\n",
      "X_train: (6858, 12)\n",
      "y_train: (6858,)\n",
      "X_test: (1715, 12)\n",
      "y_test: (1715,)\n",
      "\n",
      "Rows in X_train, y_train, and groups_train are aligned.\n"
     ]
    }
   ],
   "source": [
    "# Load and preprocess data\n",
    "data_path = \"C:/Data_MSc_Thesis/Pre_Processed_Data/Pre_Processed_Data_All_Locaions_Updated_1.csv\"\n",
    "Complete_Data = pd.read_csv(data_path)\n",
    "\n",
    "# Convert 'Date' column to datetime format and encode 'Source' as numeric codes\n",
    "Complete_Data['Date'] = pd.to_datetime(Complete_Data['Date'], format='%Y-%m-%d')\n",
    "Complete_Data['Source_ID'] = Complete_Data['Source'].astype('category').cat.codes + 1\n",
    "\n",
    "# Remove unnecessary columns for analysis\n",
    "filtered_df = Complete_Data.drop(columns=[\n",
    "    'Day_of_Year', 'Source',\n",
    "    'SWCT_005', 'STMP_005', 'NEE_CO2', 'NEE_CO2_MDS', \n",
    "    'NEE_CH4', 'NEE_CH4_MDS', 'NEE_H2O'])\n",
    "\n",
    "# Filter data from 2020 onwards and scale 'SWCT_015' values\n",
    "filtered_df = filtered_df[filtered_df['Date'] >= '2020-01-01']\n",
    "filtered_df['SWCT_015'] = filtered_df['SWCT_015'] / 100\n",
    "\n",
    "# Drop rows with NaNs in 'SWCT_015' directly when defining X, y, and groups\n",
    "non_na_data = filtered_df.dropna(subset=['SWCT_015'])\n",
    "X = non_na_data.drop(columns=[\"SWCT_015\", \"Date\"])  # Define X as features excluding the target and Date\n",
    "y = non_na_data[\"SWCT_015\"]  # Define y as the target variable\n",
    "groups = non_na_data[\"Source_ID\"]  # Define groups for Leave-One-Group-Out cross-validation\n",
    "\n",
    "# Split the data into training and test sets\n",
    "X_train, X_test, y_train, y_test, groups_train, groups_test = train_test_split(\n",
    "    X, y, groups, test_size=0.2, random_state=42)\n",
    "\n",
    "# Print dimensions of the data after handling NaNs and splitting\n",
    "print(\"Data shapes after NaN handling and splitting:\")\n",
    "print(\"X_train:\", X_train.shape)\n",
    "print(\"y_train:\", y_train.shape)\n",
    "print(\"X_test:\", X_test.shape)\n",
    "print(\"y_test:\", y_test.shape)\n",
    "\n",
    "# Ensure data alignment between X_train and y_train\n",
    "X_train, y_train = X_train.align(y_train, join='inner', axis=0)\n",
    "groups_train = groups_train.loc[X_train.index]  # Align groups_train to X_train indices\n",
    "\n",
    "# Check for alignment\n",
    "if X_train.index.equals(y_train.index) and X_train.index.equals(groups_train.index):\n",
    "    print(\"\\nRows in X_train, y_train, and groups_train are aligned.\")\n",
    "else:\n",
    "    print(\"\\nWarning: Rows in X_train, y_train, and groups_train are misaligned!\")"
   ]
  },
  {
   "cell_type": "markdown",
   "id": "2b03b401-aeb0-4e3b-bb3b-dada97c68c9a",
   "metadata": {},
   "source": [
    "#### Step 2: Primary Hyperparameter Tuning"
   ]
  },
  {
   "cell_type": "code",
   "execution_count": 5,
   "id": "cc26fa77-28de-42cd-85ce-7112463ffbdf",
   "metadata": {},
   "outputs": [
    {
     "name": "stderr",
     "output_type": "stream",
     "text": [
      "C:\\Users\\robdu\\anaconda3\\Lib\\site-packages\\numpy\\ma\\core.py:2820: RuntimeWarning: invalid value encountered in cast\n",
      "  _data = np.array(data, dtype=dtype, copy=copy,\n"
     ]
    },
    {
     "name": "stdout",
     "output_type": "stream",
     "text": [
      "Best Parameters: {'randomforestregressor__max_depth': 15, 'randomforestregressor__max_features': None, 'randomforestregressor__min_samples_leaf': 1, 'randomforestregressor__n_estimators': 400}\n",
      "Best Cross-Validation Score: -0.008283352181404255\n"
     ]
    }
   ],
   "source": [
    "# Define the RandomForestRegressor model and create a pipeline\n",
    "rf = RandomForestRegressor(random_state=0)\n",
    "pipeline = Pipeline([(\"randomforestregressor\", rf)])\n",
    "\n",
    "# Define parameter grid for GridSearchCV\n",
    "param_grid = {\n",
    "    \"randomforestregressor__n_estimators\": [300, 400, 500, 600, 700],\n",
    "    \"randomforestregressor__max_depth\": [5, 10, 15],\n",
    "    \"randomforestregressor__max_features\": [\"sqrt\", \"log2\", None],\n",
    "    \"randomforestregressor__min_samples_leaf\": [1, 2, 4]}\n",
    "\n",
    "# Suppress warnings except for FitFailedWarning, which indicates issues during fitting\n",
    "warnings.simplefilter(\"error\", FitFailedWarning)\n",
    "\n",
    "# Initialize GridSearchCV with Leave-One-Group-Out cross-validation\n",
    "grid_search = GridSearchCV(\n",
    "    pipeline,\n",
    "    param_grid = param_grid,\n",
    "    cv = LeaveOneGroupOut().split(X_train, y_train, groups=groups_train),\n",
    "    scoring = \"neg_mean_squared_error\",\n",
    "    n_jobs = -1,\n",
    "    error_score=np.nan)  # Set failed fits to NaN\n",
    "\n",
    "# Fit GridSearchCV with error handling\n",
    "try:\n",
    "    grid_search.fit(X_train, y_train)\n",
    "    best_params = grid_search.best_params_  # Best parameters found by GridSearchCV\n",
    "    best_score = grid_search.best_score_    # Best cross-validation score\n",
    "    print(\"Best Parameters:\", best_params)\n",
    "    print(\"Best Cross-Validation Score:\", best_score)\n",
    "except FitFailedWarning as e:\n",
    "    print(\"FitFailedWarning encountered during fitting:\")\n",
    "    print(str(e))\n",
    "except ValueError as ve:\n",
    "    print(\"ValueError encountered during fitting:\")\n",
    "    print(str(ve))\n",
    "except AttributeError:\n",
    "    print(\"GridSearchCV did not complete successfully; best parameters and score are unavailable.\")"
   ]
  },
  {
   "cell_type": "code",
   "execution_count": null,
   "id": "1074d775-4e52-4407-a170-22128b435b05",
   "metadata": {},
   "outputs": [],
   "source": []
  }
 ],
 "metadata": {
  "kernelspec": {
   "display_name": "Python 3 (ipykernel)",
   "language": "python",
   "name": "python3"
  },
  "language_info": {
   "codemirror_mode": {
    "name": "ipython",
    "version": 3
   },
   "file_extension": ".py",
   "mimetype": "text/x-python",
   "name": "python",
   "nbconvert_exporter": "python",
   "pygments_lexer": "ipython3",
   "version": "3.11.6"
  }
 },
 "nbformat": 4,
 "nbformat_minor": 5
}
